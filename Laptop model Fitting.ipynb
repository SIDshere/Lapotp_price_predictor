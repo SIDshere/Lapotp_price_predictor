{
 "cells": [
  {
   "cell_type": "code",
   "execution_count": 1,
   "id": "9f446fdc",
   "metadata": {},
   "outputs": [],
   "source": [
    "import pandas as pd\n",
    "import numpy as np\n",
    "import seaborn as sns"
   ]
  },
  {
   "cell_type": "code",
   "execution_count": 2,
   "id": "07db7a2f",
   "metadata": {},
   "outputs": [],
   "source": [
    "df=pd.read_csv('changed.csv')\n"
   ]
  },
  {
   "cell_type": "code",
   "execution_count": 3,
   "id": "c75b7773",
   "metadata": {},
   "outputs": [
    {
     "data": {
      "text/plain": [
       "Index(['Unnamed: 0', 'Name', 'Processor', 'RAM', 'Operating System',\n",
       "       'Display Size', 'Warranty', 'Price', 'Rating', 'Brand', 'SSD', 'HDD',\n",
       "       'disk_drive', 'Ram', 'p_brand', 'Cores', 'processor_type', 'OS',\n",
       "       'display', 'touchscreen', 'graphic_card', 'Generation'],\n",
       "      dtype='object')"
      ]
     },
     "execution_count": 3,
     "metadata": {},
     "output_type": "execute_result"
    }
   ],
   "source": [
    "df.columns"
   ]
  },
  {
   "cell_type": "code",
   "execution_count": 72,
   "id": "de183e71",
   "metadata": {},
   "outputs": [
    {
     "data": {
      "text/plain": [
       "Name                           HP Laptop Core i3 11th Gen - (8 GB/512 GB SSD/...\n",
       "Processor                                     Intel Core i3 Processor (11th Gen)\n",
       "RAM                                                                8 GB DDR4 RAM\n",
       "Operating System                                     Windows 11 Operating System\n",
       "Display Size                                        39.62 cm (15.6 Inch) Display\n",
       "Warranty                                                  1 Year Onsite Warranty\n",
       "Price                                                                      38990\n",
       "Rating                                                                       4.3\n",
       "Brand                                                                         HP\n",
       "SSD                                                                          512\n",
       "HDD                                                                            0\n",
       "disk_drive                                                                   SSD\n",
       "Ram                                                                            8\n",
       "p_brand                                                                    Intel\n",
       "Cores                                                                          3\n",
       "processor_type                                                                i3\n",
       "OS                                                                       Windows\n",
       "display                                                                     15.6\n",
       "touchscreen                                                                   No\n",
       "graphic_card                                                                  No\n",
       "Generation                                                                    11\n",
       "Brand_name_encoded                                                             6\n",
       "disk_drive_name_encoded                                                        3\n",
       "p_brand_name_encoded                                                           1\n",
       "processor_type_name_encoded                                                    8\n",
       "OS_name_encoded                                                                6\n",
       "graphic_card_name_encoded                                                      0\n",
       "touchscreen_name_encoded                                                       0\n",
       "Name: 15, dtype: object"
      ]
     },
     "execution_count": 72,
     "metadata": {},
     "output_type": "execute_result"
    }
   ],
   "source": [
    "df.iloc[15]"
   ]
  },
  {
   "cell_type": "code",
   "execution_count": 5,
   "id": "411d8cf5",
   "metadata": {},
   "outputs": [
    {
     "data": {
      "text/plain": [
       "(893, 22)"
      ]
     },
     "execution_count": 5,
     "metadata": {},
     "output_type": "execute_result"
    }
   ],
   "source": [
    "df.shape\n"
   ]
  },
  {
   "cell_type": "code",
   "execution_count": null,
   "id": "fa165f0b",
   "metadata": {},
   "outputs": [],
   "source": []
  },
  {
   "cell_type": "code",
   "execution_count": 6,
   "id": "f473a5df",
   "metadata": {},
   "outputs": [
    {
     "data": {
      "text/plain": [
       "Unnamed: 0          0\n",
       "Name                0\n",
       "Processor           0\n",
       "RAM                 0\n",
       "Operating System    0\n",
       "Display Size        0\n",
       "Warranty            0\n",
       "Price               0\n",
       "Rating              0\n",
       "Brand               0\n",
       "SSD                 0\n",
       "HDD                 0\n",
       "disk_drive          0\n",
       "Ram                 0\n",
       "p_brand             0\n",
       "Cores               0\n",
       "processor_type      0\n",
       "OS                  0\n",
       "display             0\n",
       "touchscreen         0\n",
       "graphic_card        0\n",
       "Generation          0\n",
       "dtype: int64"
      ]
     },
     "execution_count": 6,
     "metadata": {},
     "output_type": "execute_result"
    }
   ],
   "source": [
    "df.isna().sum()"
   ]
  },
  {
   "cell_type": "code",
   "execution_count": 7,
   "id": "6b027600",
   "metadata": {},
   "outputs": [],
   "source": [
    "df.drop('Unnamed: 0',axis=1,inplace=True)\n"
   ]
  },
  {
   "cell_type": "code",
   "execution_count": 8,
   "id": "95169d7c",
   "metadata": {},
   "outputs": [
    {
     "data": {
      "text/html": [
       "<div>\n",
       "<style scoped>\n",
       "    .dataframe tbody tr th:only-of-type {\n",
       "        vertical-align: middle;\n",
       "    }\n",
       "\n",
       "    .dataframe tbody tr th {\n",
       "        vertical-align: top;\n",
       "    }\n",
       "\n",
       "    .dataframe thead th {\n",
       "        text-align: right;\n",
       "    }\n",
       "</style>\n",
       "<table border=\"1\" class=\"dataframe\">\n",
       "  <thead>\n",
       "    <tr style=\"text-align: right;\">\n",
       "      <th></th>\n",
       "      <th>Name</th>\n",
       "      <th>Processor</th>\n",
       "      <th>RAM</th>\n",
       "      <th>Operating System</th>\n",
       "      <th>Display Size</th>\n",
       "      <th>Warranty</th>\n",
       "      <th>Price</th>\n",
       "      <th>Rating</th>\n",
       "      <th>Brand</th>\n",
       "      <th>SSD</th>\n",
       "      <th>...</th>\n",
       "      <th>disk_drive</th>\n",
       "      <th>Ram</th>\n",
       "      <th>p_brand</th>\n",
       "      <th>Cores</th>\n",
       "      <th>processor_type</th>\n",
       "      <th>OS</th>\n",
       "      <th>display</th>\n",
       "      <th>touchscreen</th>\n",
       "      <th>graphic_card</th>\n",
       "      <th>Generation</th>\n",
       "    </tr>\n",
       "  </thead>\n",
       "  <tbody>\n",
       "    <tr>\n",
       "      <th>0</th>\n",
       "      <td>Primebook 4G Android Based MediaTek MT8788 - (...</td>\n",
       "      <td>MediaTek MT8788</td>\n",
       "      <td>4 GB LPDDR4 RAM</td>\n",
       "      <td>Prime OS Operating System</td>\n",
       "      <td>29.46 cm (11.6 Inch) Display</td>\n",
       "      <td>1 year walk-in warranty</td>\n",
       "      <td>16990</td>\n",
       "      <td>4.1</td>\n",
       "      <td>Primebook</td>\n",
       "      <td>0</td>\n",
       "      <td>...</td>\n",
       "      <td>Not available</td>\n",
       "      <td>4</td>\n",
       "      <td>MediaTek</td>\n",
       "      <td>0</td>\n",
       "      <td>MT</td>\n",
       "      <td>Prime</td>\n",
       "      <td>11.60</td>\n",
       "      <td>No</td>\n",
       "      <td>No</td>\n",
       "      <td>0</td>\n",
       "    </tr>\n",
       "    <tr>\n",
       "      <th>1</th>\n",
       "      <td>Lenovo IdeaPad Slim 3 Intel Core i3 11th Gen -...</td>\n",
       "      <td>Intel Core i3 Processor (11th Gen)</td>\n",
       "      <td>8 GB DDR4 RAM</td>\n",
       "      <td>Windows 11 Operating System</td>\n",
       "      <td>39.62 cm (15.6 Inch) Display</td>\n",
       "      <td>1 Year Onsite Warranty + 1 Year Premium Care +...</td>\n",
       "      <td>33990</td>\n",
       "      <td>4.2</td>\n",
       "      <td>Lenovo</td>\n",
       "      <td>256</td>\n",
       "      <td>...</td>\n",
       "      <td>SSD</td>\n",
       "      <td>8</td>\n",
       "      <td>Intel</td>\n",
       "      <td>3</td>\n",
       "      <td>i3</td>\n",
       "      <td>Windows</td>\n",
       "      <td>15.60</td>\n",
       "      <td>No</td>\n",
       "      <td>No</td>\n",
       "      <td>11</td>\n",
       "    </tr>\n",
       "    <tr>\n",
       "      <th>2</th>\n",
       "      <td>ASUS VivoBook 14 (2021) Celeron Dual Core - (4...</td>\n",
       "      <td>Intel Celeron Dual Core Processor</td>\n",
       "      <td>4 GB DDR4 RAM</td>\n",
       "      <td>64 bit Windows 11 Operating System</td>\n",
       "      <td>35.56 cm (14 inch) Display</td>\n",
       "      <td>1 Year Onsite Warranty</td>\n",
       "      <td>21990</td>\n",
       "      <td>4.1</td>\n",
       "      <td>ASUS</td>\n",
       "      <td>256</td>\n",
       "      <td>...</td>\n",
       "      <td>SSD</td>\n",
       "      <td>4</td>\n",
       "      <td>Intel</td>\n",
       "      <td>2</td>\n",
       "      <td>Celeron</td>\n",
       "      <td>Windows</td>\n",
       "      <td>14.00</td>\n",
       "      <td>No</td>\n",
       "      <td>No</td>\n",
       "      <td>0</td>\n",
       "    </tr>\n",
       "    <tr>\n",
       "      <th>3</th>\n",
       "      <td>ASUS Vivobook 15 Core i3 11th Gen - (8 GB/512 ...</td>\n",
       "      <td>Intel Core i3 Processor (11th Gen)</td>\n",
       "      <td>8 GB DDR4 RAM</td>\n",
       "      <td>64 bit Windows 11 Operating System</td>\n",
       "      <td>39.62 cm (15.6 Inch) Display</td>\n",
       "      <td>1 Year Onsite Warranty</td>\n",
       "      <td>34990</td>\n",
       "      <td>4.2</td>\n",
       "      <td>ASUS</td>\n",
       "      <td>512</td>\n",
       "      <td>...</td>\n",
       "      <td>SSD</td>\n",
       "      <td>8</td>\n",
       "      <td>Intel</td>\n",
       "      <td>3</td>\n",
       "      <td>i3</td>\n",
       "      <td>Windows</td>\n",
       "      <td>15.60</td>\n",
       "      <td>No</td>\n",
       "      <td>No</td>\n",
       "      <td>11</td>\n",
       "    </tr>\n",
       "    <tr>\n",
       "      <th>4</th>\n",
       "      <td>RedmiBook Pro Core i5 11th Gen - (8 GB/512 GB ...</td>\n",
       "      <td>Intel Core i5 Processor (11th Gen)</td>\n",
       "      <td>8 GB DDR4 RAM</td>\n",
       "      <td>Windows 11 Operating System</td>\n",
       "      <td>39.62 cm (15.6 inch) Display</td>\n",
       "      <td>1 Year Onsite Warranty</td>\n",
       "      <td>37990</td>\n",
       "      <td>4.1</td>\n",
       "      <td>RedmiBook</td>\n",
       "      <td>512</td>\n",
       "      <td>...</td>\n",
       "      <td>SSD</td>\n",
       "      <td>8</td>\n",
       "      <td>Intel</td>\n",
       "      <td>5</td>\n",
       "      <td>i5</td>\n",
       "      <td>Windows</td>\n",
       "      <td>15.60</td>\n",
       "      <td>No</td>\n",
       "      <td>No</td>\n",
       "      <td>11</td>\n",
       "    </tr>\n",
       "    <tr>\n",
       "      <th>...</th>\n",
       "      <td>...</td>\n",
       "      <td>...</td>\n",
       "      <td>...</td>\n",
       "      <td>...</td>\n",
       "      <td>...</td>\n",
       "      <td>...</td>\n",
       "      <td>...</td>\n",
       "      <td>...</td>\n",
       "      <td>...</td>\n",
       "      <td>...</td>\n",
       "      <td>...</td>\n",
       "      <td>...</td>\n",
       "      <td>...</td>\n",
       "      <td>...</td>\n",
       "      <td>...</td>\n",
       "      <td>...</td>\n",
       "      <td>...</td>\n",
       "      <td>...</td>\n",
       "      <td>...</td>\n",
       "      <td>...</td>\n",
       "      <td>...</td>\n",
       "    </tr>\n",
       "    <tr>\n",
       "      <th>888</th>\n",
       "      <td>Lenovo IdeaPad Slim 3 Intel Core i3 12th Gen -...</td>\n",
       "      <td>Intel Core i3 Processor (12th Gen)</td>\n",
       "      <td>8 GB DDR4 RAM</td>\n",
       "      <td>64 bit Windows 11 Operating System</td>\n",
       "      <td>93.01 cm (36.62 cm) Display</td>\n",
       "      <td>1 Year Onsite Warranty + 1 Year Premium Care +...</td>\n",
       "      <td>39990</td>\n",
       "      <td>3.9</td>\n",
       "      <td>Lenovo</td>\n",
       "      <td>512</td>\n",
       "      <td>...</td>\n",
       "      <td>SSD</td>\n",
       "      <td>8</td>\n",
       "      <td>Intel</td>\n",
       "      <td>3</td>\n",
       "      <td>i3</td>\n",
       "      <td>Windows</td>\n",
       "      <td>36.62</td>\n",
       "      <td>No</td>\n",
       "      <td>No</td>\n",
       "      <td>12</td>\n",
       "    </tr>\n",
       "    <tr>\n",
       "      <th>889</th>\n",
       "      <td>DELL Core i5 5th Gen - (8 GB/1 TB HDD/Windows ...</td>\n",
       "      <td>Intel Core i5 Processor (5th Gen)</td>\n",
       "      <td>8 GB DDR3 RAM</td>\n",
       "      <td>64 bit Windows 10 Operating System</td>\n",
       "      <td>39.62 cm (15.6 inch) Touchscreen Display</td>\n",
       "      <td>1 Year Onsite Warranty</td>\n",
       "      <td>66490</td>\n",
       "      <td>1.6</td>\n",
       "      <td>DELL</td>\n",
       "      <td>0</td>\n",
       "      <td>...</td>\n",
       "      <td>HDD</td>\n",
       "      <td>8</td>\n",
       "      <td>Intel</td>\n",
       "      <td>5</td>\n",
       "      <td>i5</td>\n",
       "      <td>Windows</td>\n",
       "      <td>15.60</td>\n",
       "      <td>Yes</td>\n",
       "      <td>Yes</td>\n",
       "      <td>5</td>\n",
       "    </tr>\n",
       "    <tr>\n",
       "      <th>890</th>\n",
       "      <td>DELL Core i3 11th Gen - (8 GB/256 GB SSD/32 GB...</td>\n",
       "      <td>Intel Core i3 Processor (11th Gen)</td>\n",
       "      <td>8 GB DDR4 RAM</td>\n",
       "      <td>Linux/Ubuntu Operating System</td>\n",
       "      <td>35.56 cm (14 Inch) Display</td>\n",
       "      <td>1 Year Onsite Warranty</td>\n",
       "      <td>56426</td>\n",
       "      <td>4.1</td>\n",
       "      <td>DELL</td>\n",
       "      <td>256</td>\n",
       "      <td>...</td>\n",
       "      <td>SSD</td>\n",
       "      <td>8</td>\n",
       "      <td>Intel</td>\n",
       "      <td>3</td>\n",
       "      <td>i3</td>\n",
       "      <td>Linux</td>\n",
       "      <td>14.00</td>\n",
       "      <td>No</td>\n",
       "      <td>No</td>\n",
       "      <td>11</td>\n",
       "    </tr>\n",
       "    <tr>\n",
       "      <th>891</th>\n",
       "      <td>acer Swift 3 Core i5 8th Gen - (8 GB/512 GB SS...</td>\n",
       "      <td>Intel Core i5 Processor (8th Gen)</td>\n",
       "      <td>8 GB DDR4 RAM</td>\n",
       "      <td>64 bit Windows 10 Operating System</td>\n",
       "      <td>35.56 cm (14 inch) Display</td>\n",
       "      <td>1 Year International Travelers Warranty (ITW)</td>\n",
       "      <td>54990</td>\n",
       "      <td>4.5</td>\n",
       "      <td>acer</td>\n",
       "      <td>512</td>\n",
       "      <td>...</td>\n",
       "      <td>SSD</td>\n",
       "      <td>8</td>\n",
       "      <td>Intel</td>\n",
       "      <td>5</td>\n",
       "      <td>i5</td>\n",
       "      <td>Windows</td>\n",
       "      <td>14.00</td>\n",
       "      <td>No</td>\n",
       "      <td>Yes</td>\n",
       "      <td>8</td>\n",
       "    </tr>\n",
       "    <tr>\n",
       "      <th>892</th>\n",
       "      <td>Lenovo IdeaPad 3 Intel Core i5 11th Gen - (8 G...</td>\n",
       "      <td>Intel Core i5 Processor (11th Gen)</td>\n",
       "      <td>8 GB DDR4 RAM</td>\n",
       "      <td>64 bit Windows 11 Operating System</td>\n",
       "      <td>39.62 cm (15.6 inch) Display</td>\n",
       "      <td>1 Year Onsite Warranty + 1 Year Premium Care +...</td>\n",
       "      <td>51500</td>\n",
       "      <td>4.3</td>\n",
       "      <td>Lenovo</td>\n",
       "      <td>512</td>\n",
       "      <td>...</td>\n",
       "      <td>SSD</td>\n",
       "      <td>8</td>\n",
       "      <td>Intel</td>\n",
       "      <td>5</td>\n",
       "      <td>i5</td>\n",
       "      <td>Windows</td>\n",
       "      <td>15.60</td>\n",
       "      <td>No</td>\n",
       "      <td>No</td>\n",
       "      <td>11</td>\n",
       "    </tr>\n",
       "  </tbody>\n",
       "</table>\n",
       "<p>893 rows × 21 columns</p>\n",
       "</div>"
      ],
      "text/plain": [
       "                                                  Name  \\\n",
       "0    Primebook 4G Android Based MediaTek MT8788 - (...   \n",
       "1    Lenovo IdeaPad Slim 3 Intel Core i3 11th Gen -...   \n",
       "2    ASUS VivoBook 14 (2021) Celeron Dual Core - (4...   \n",
       "3    ASUS Vivobook 15 Core i3 11th Gen - (8 GB/512 ...   \n",
       "4    RedmiBook Pro Core i5 11th Gen - (8 GB/512 GB ...   \n",
       "..                                                 ...   \n",
       "888  Lenovo IdeaPad Slim 3 Intel Core i3 12th Gen -...   \n",
       "889  DELL Core i5 5th Gen - (8 GB/1 TB HDD/Windows ...   \n",
       "890  DELL Core i3 11th Gen - (8 GB/256 GB SSD/32 GB...   \n",
       "891  acer Swift 3 Core i5 8th Gen - (8 GB/512 GB SS...   \n",
       "892  Lenovo IdeaPad 3 Intel Core i5 11th Gen - (8 G...   \n",
       "\n",
       "                              Processor              RAM  \\\n",
       "0                       MediaTek MT8788  4 GB LPDDR4 RAM   \n",
       "1    Intel Core i3 Processor (11th Gen)    8 GB DDR4 RAM   \n",
       "2     Intel Celeron Dual Core Processor    4 GB DDR4 RAM   \n",
       "3    Intel Core i3 Processor (11th Gen)    8 GB DDR4 RAM   \n",
       "4    Intel Core i5 Processor (11th Gen)    8 GB DDR4 RAM   \n",
       "..                                  ...              ...   \n",
       "888  Intel Core i3 Processor (12th Gen)    8 GB DDR4 RAM   \n",
       "889   Intel Core i5 Processor (5th Gen)    8 GB DDR3 RAM   \n",
       "890  Intel Core i3 Processor (11th Gen)    8 GB DDR4 RAM   \n",
       "891   Intel Core i5 Processor (8th Gen)    8 GB DDR4 RAM   \n",
       "892  Intel Core i5 Processor (11th Gen)    8 GB DDR4 RAM   \n",
       "\n",
       "                       Operating System  \\\n",
       "0             Prime OS Operating System   \n",
       "1           Windows 11 Operating System   \n",
       "2    64 bit Windows 11 Operating System   \n",
       "3    64 bit Windows 11 Operating System   \n",
       "4           Windows 11 Operating System   \n",
       "..                                  ...   \n",
       "888  64 bit Windows 11 Operating System   \n",
       "889  64 bit Windows 10 Operating System   \n",
       "890       Linux/Ubuntu Operating System   \n",
       "891  64 bit Windows 10 Operating System   \n",
       "892  64 bit Windows 11 Operating System   \n",
       "\n",
       "                                 Display Size  \\\n",
       "0                29.46 cm (11.6 Inch) Display   \n",
       "1                39.62 cm (15.6 Inch) Display   \n",
       "2                  35.56 cm (14 inch) Display   \n",
       "3                39.62 cm (15.6 Inch) Display   \n",
       "4                39.62 cm (15.6 inch) Display   \n",
       "..                                        ...   \n",
       "888               93.01 cm (36.62 cm) Display   \n",
       "889  39.62 cm (15.6 inch) Touchscreen Display   \n",
       "890                35.56 cm (14 Inch) Display   \n",
       "891                35.56 cm (14 inch) Display   \n",
       "892              39.62 cm (15.6 inch) Display   \n",
       "\n",
       "                                              Warranty  Price  Rating  \\\n",
       "0                              1 year walk-in warranty  16990     4.1   \n",
       "1    1 Year Onsite Warranty + 1 Year Premium Care +...  33990     4.2   \n",
       "2                               1 Year Onsite Warranty  21990     4.1   \n",
       "3                               1 Year Onsite Warranty  34990     4.2   \n",
       "4                               1 Year Onsite Warranty  37990     4.1   \n",
       "..                                                 ...    ...     ...   \n",
       "888  1 Year Onsite Warranty + 1 Year Premium Care +...  39990     3.9   \n",
       "889                             1 Year Onsite Warranty  66490     1.6   \n",
       "890                             1 Year Onsite Warranty  56426     4.1   \n",
       "891      1 Year International Travelers Warranty (ITW)  54990     4.5   \n",
       "892  1 Year Onsite Warranty + 1 Year Premium Care +...  51500     4.3   \n",
       "\n",
       "         Brand  SSD  ...     disk_drive Ram   p_brand Cores  processor_type  \\\n",
       "0    Primebook    0  ...  Not available   4  MediaTek     0              MT   \n",
       "1       Lenovo  256  ...            SSD   8     Intel     3              i3   \n",
       "2         ASUS  256  ...            SSD   4     Intel     2         Celeron   \n",
       "3         ASUS  512  ...            SSD   8     Intel     3              i3   \n",
       "4    RedmiBook  512  ...            SSD   8     Intel     5              i5   \n",
       "..         ...  ...  ...            ...  ..       ...   ...             ...   \n",
       "888     Lenovo  512  ...            SSD   8     Intel     3              i3   \n",
       "889       DELL    0  ...            HDD   8     Intel     5              i5   \n",
       "890       DELL  256  ...            SSD   8     Intel     3              i3   \n",
       "891       acer  512  ...            SSD   8     Intel     5              i5   \n",
       "892     Lenovo  512  ...            SSD   8     Intel     5              i5   \n",
       "\n",
       "          OS display  touchscreen graphic_card Generation  \n",
       "0      Prime   11.60           No           No          0  \n",
       "1    Windows   15.60           No           No         11  \n",
       "2    Windows   14.00           No           No          0  \n",
       "3    Windows   15.60           No           No         11  \n",
       "4    Windows   15.60           No           No         11  \n",
       "..       ...     ...          ...          ...        ...  \n",
       "888  Windows   36.62           No           No         12  \n",
       "889  Windows   15.60          Yes          Yes          5  \n",
       "890    Linux   14.00           No           No         11  \n",
       "891  Windows   14.00           No          Yes          8  \n",
       "892  Windows   15.60           No           No         11  \n",
       "\n",
       "[893 rows x 21 columns]"
      ]
     },
     "execution_count": 8,
     "metadata": {},
     "output_type": "execute_result"
    }
   ],
   "source": [
    "df"
   ]
  },
  {
   "cell_type": "code",
   "execution_count": 9,
   "id": "f141fb68",
   "metadata": {},
   "outputs": [
    {
     "data": {
      "text/plain": [
       "Index(['Name', 'Processor', 'RAM', 'Operating System', 'Display Size',\n",
       "       'Warranty', 'Price', 'Rating', 'Brand', 'SSD', 'HDD', 'disk_drive',\n",
       "       'Ram', 'p_brand', 'Cores', 'processor_type', 'OS', 'display',\n",
       "       'touchscreen', 'graphic_card', 'Generation'],\n",
       "      dtype='object')"
      ]
     },
     "execution_count": 9,
     "metadata": {},
     "output_type": "execute_result"
    }
   ],
   "source": [
    "df.columns"
   ]
  },
  {
   "cell_type": "code",
   "execution_count": 10,
   "id": "79415052",
   "metadata": {},
   "outputs": [],
   "source": [
    "from sklearn.preprocessing import LabelEncoder\n",
    "def encoding(feature):\n",
    "    df[feature+'_name_encoded'] = LabelEncoder().fit_transform(df[feature])\n",
    "features = ['Brand','disk_drive', 'p_brand', 'processor_type', 'OS','graphic_card','touchscreen']"
   ]
  },
  {
   "cell_type": "code",
   "execution_count": 16,
   "id": "276159d0",
   "metadata": {},
   "outputs": [
    {
     "data": {
      "text/plain": [
       "array([11.6 , 15.6 , 14.  , 36.62, 15.  , 16.  , 14.5 , 16.1 , 39.62,\n",
       "       38.  , 17.  , 17.3 , 35.56, 14.96, 13.3 , 13.4 , 14.1 , 13.5 ,\n",
       "       16.6 , 13.  , 40.64])"
      ]
     },
     "execution_count": 16,
     "metadata": {},
     "output_type": "execute_result"
    }
   ],
   "source": [
    "df[\"display\"].unique()"
   ]
  },
  {
   "cell_type": "code",
   "execution_count": 17,
   "id": "8047f8fc",
   "metadata": {
    "scrolled": true
   },
   "outputs": [
    {
     "data": {
      "text/plain": [
       "Index(['Name', 'Processor', 'RAM', 'Operating System', 'Display Size',\n",
       "       'Warranty', 'Price', 'Rating', 'Brand', 'SSD', 'HDD', 'disk_drive',\n",
       "       'Ram', 'p_brand', 'Cores', 'processor_type', 'OS', 'display',\n",
       "       'touchscreen', 'graphic_card', 'Generation'],\n",
       "      dtype='object')"
      ]
     },
     "execution_count": 17,
     "metadata": {},
     "output_type": "execute_result"
    }
   ],
   "source": [
    "df.columns"
   ]
  },
  {
   "cell_type": "code",
   "execution_count": 18,
   "id": "e5a5aa76",
   "metadata": {},
   "outputs": [],
   "source": [
    "for i in features:\n",
    "    encoding(i)"
   ]
  },
  {
   "cell_type": "code",
   "execution_count": 19,
   "id": "21159e3f",
   "metadata": {},
   "outputs": [
    {
     "data": {
      "text/plain": [
       "Index(['Name', 'Processor', 'RAM', 'Operating System', 'Display Size',\n",
       "       'Warranty', 'Price', 'Rating', 'Brand', 'SSD', 'HDD', 'disk_drive',\n",
       "       'Ram', 'p_brand', 'Cores', 'processor_type', 'OS', 'display',\n",
       "       'touchscreen', 'graphic_card', 'Generation', 'Brand_name_encoded',\n",
       "       'disk_drive_name_encoded', 'p_brand_name_encoded',\n",
       "       'processor_type_name_encoded', 'OS_name_encoded',\n",
       "       'graphic_card_name_encoded', 'touchscreen_name_encoded'],\n",
       "      dtype='object')"
      ]
     },
     "execution_count": 19,
     "metadata": {},
     "output_type": "execute_result"
    }
   ],
   "source": [
    "df.columns"
   ]
  },
  {
   "cell_type": "code",
   "execution_count": 20,
   "id": "6afd57db",
   "metadata": {},
   "outputs": [
    {
     "data": {
      "text/plain": [
       "Brand      Brand_name_encoded\n",
       "ASUS       2                     212\n",
       "Lenovo     8                     204\n",
       "HP         6                     129\n",
       "Primebook  11                    112\n",
       "DELL       4                      90\n",
       "MSI        10                     51\n",
       "acer       15                     43\n",
       "Infinix    7                      18\n",
       "realme     16                     10\n",
       "SAMSUNG    13                      8\n",
       "GIGABYTE   5                       6\n",
       "ALIENWARE  0                       5\n",
       "MICROSOFT  9                       1\n",
       "APPLE      1                       1\n",
       "RedmiBook  12                      1\n",
       "Vaio       14                      1\n",
       "Avita      3                       1\n",
       "dtype: int64"
      ]
     },
     "execution_count": 20,
     "metadata": {},
     "output_type": "execute_result"
    }
   ],
   "source": [
    "df[['Brand', 'Brand_name_encoded']].value_counts()"
   ]
  },
  {
   "cell_type": "code",
   "execution_count": 21,
   "id": "8667bd75",
   "metadata": {},
   "outputs": [
    {
     "data": {
      "text/plain": [
       "p_brand   p_brand_name_encoded\n",
       "Intel     1                       543\n",
       "AMD       0                       238\n",
       "MediaTek  2                       112\n",
       "dtype: int64"
      ]
     },
     "execution_count": 21,
     "metadata": {},
     "output_type": "execute_result"
    }
   ],
   "source": [
    "df[['p_brand','p_brand_name_encoded']].value_counts()"
   ]
  },
  {
   "cell_type": "code",
   "execution_count": 22,
   "id": "1cdd6d55",
   "metadata": {},
   "outputs": [
    {
     "data": {
      "text/plain": [
       "processor_type  processor_type_name_encoded\n",
       "i5              9                              211\n",
       "i3              8                              152\n",
       "MT              2                              114\n",
       "i7              10                             111\n",
       "Ryzen 5         5                               92\n",
       "Ryzen 7         6                               83\n",
       "i9              11                              40\n",
       "Ryzen 3         4                               35\n",
       "Celeron         1                               23\n",
       "Ryzen 9         7                               22\n",
       "Athlon          0                                6\n",
       "Pentium         3                                4\n",
       "dtype: int64"
      ]
     },
     "execution_count": 22,
     "metadata": {},
     "output_type": "execute_result"
    }
   ],
   "source": [
    "df[['processor_type','processor_type_name_encoded']].value_counts()"
   ]
  },
  {
   "cell_type": "code",
   "execution_count": 23,
   "id": "6304d1f0",
   "metadata": {},
   "outputs": [
    {
     "data": {
      "text/plain": [
       "OS       OS_name_encoded\n",
       "Windows  6                  762\n",
       "Prime    5                  112\n",
       "Chrome   0                   10\n",
       "DOS      1                    6\n",
       "Linux    2                    1\n",
       "Mac      3                    1\n",
       "OS       4                    1\n",
       "dtype: int64"
      ]
     },
     "execution_count": 23,
     "metadata": {},
     "output_type": "execute_result"
    }
   ],
   "source": [
    "df[['OS','OS_name_encoded']].value_counts()"
   ]
  },
  {
   "cell_type": "code",
   "execution_count": 24,
   "id": "e58e5c9c",
   "metadata": {},
   "outputs": [
    {
     "data": {
      "text/plain": [
       "Index(['Name', 'Processor', 'RAM', 'Operating System', 'Display Size',\n",
       "       'Warranty', 'Price', 'Rating', 'Brand', 'SSD', 'HDD', 'disk_drive',\n",
       "       'Ram', 'p_brand', 'Cores', 'processor_type', 'OS', 'display',\n",
       "       'touchscreen', 'graphic_card', 'Generation', 'Brand_name_encoded',\n",
       "       'disk_drive_name_encoded', 'p_brand_name_encoded',\n",
       "       'processor_type_name_encoded', 'OS_name_encoded',\n",
       "       'graphic_card_name_encoded', 'touchscreen_name_encoded'],\n",
       "      dtype='object')"
      ]
     },
     "execution_count": 24,
     "metadata": {},
     "output_type": "execute_result"
    }
   ],
   "source": [
    "df.columns"
   ]
  },
  {
   "cell_type": "code",
   "execution_count": 25,
   "id": "ca608ee1",
   "metadata": {},
   "outputs": [
    {
     "data": {
      "text/plain": [
       "disk_drive     disk_drive_name_encoded\n",
       "SSD            3                          726\n",
       "Not available  2                          122\n",
       "Both           0                           37\n",
       "HDD            1                            8\n",
       "dtype: int64"
      ]
     },
     "execution_count": 25,
     "metadata": {},
     "output_type": "execute_result"
    }
   ],
   "source": [
    "df[['disk_drive','disk_drive_name_encoded']].value_counts()"
   ]
  },
  {
   "cell_type": "code",
   "execution_count": 26,
   "id": "7ece5dba",
   "metadata": {},
   "outputs": [],
   "source": [
    "df_model = df[['Price', 'Rating','Ram', 'Cores',\n",
    "       'Generation', 'Brand_name_encoded','display',\n",
    "       'disk_drive_name_encoded', 'p_brand_name_encoded',\n",
    "       'processor_type_name_encoded', 'OS_name_encoded',\n",
    "       'graphic_card_name_encoded', 'touchscreen_name_encoded']]"
   ]
  },
  {
   "cell_type": "code",
   "execution_count": 27,
   "id": "6a59caf2",
   "metadata": {},
   "outputs": [
    {
     "data": {
      "text/plain": [
       "5    285\n",
       "7    189\n",
       "3    154\n",
       "0    112\n",
       "9     62\n",
       "4     50\n",
       "2     41\n",
       "Name: Cores, dtype: int64"
      ]
     },
     "execution_count": 27,
     "metadata": {},
     "output_type": "execute_result"
    }
   ],
   "source": [
    "df[\"Cores\"].value_counts()"
   ]
  },
  {
   "cell_type": "code",
   "execution_count": 28,
   "id": "b6959088",
   "metadata": {},
   "outputs": [
    {
     "data": {
      "text/html": [
       "<div>\n",
       "<style scoped>\n",
       "    .dataframe tbody tr th:only-of-type {\n",
       "        vertical-align: middle;\n",
       "    }\n",
       "\n",
       "    .dataframe tbody tr th {\n",
       "        vertical-align: top;\n",
       "    }\n",
       "\n",
       "    .dataframe thead th {\n",
       "        text-align: right;\n",
       "    }\n",
       "</style>\n",
       "<table border=\"1\" class=\"dataframe\">\n",
       "  <thead>\n",
       "    <tr style=\"text-align: right;\">\n",
       "      <th></th>\n",
       "      <th>Price</th>\n",
       "      <th>Rating</th>\n",
       "      <th>Ram</th>\n",
       "      <th>Cores</th>\n",
       "      <th>Generation</th>\n",
       "      <th>Brand_name_encoded</th>\n",
       "      <th>display</th>\n",
       "      <th>disk_drive_name_encoded</th>\n",
       "      <th>p_brand_name_encoded</th>\n",
       "      <th>processor_type_name_encoded</th>\n",
       "      <th>OS_name_encoded</th>\n",
       "      <th>graphic_card_name_encoded</th>\n",
       "      <th>touchscreen_name_encoded</th>\n",
       "    </tr>\n",
       "  </thead>\n",
       "  <tbody>\n",
       "    <tr>\n",
       "      <th>0</th>\n",
       "      <td>16990</td>\n",
       "      <td>4.1</td>\n",
       "      <td>4</td>\n",
       "      <td>0</td>\n",
       "      <td>0</td>\n",
       "      <td>11</td>\n",
       "      <td>11.60</td>\n",
       "      <td>2</td>\n",
       "      <td>2</td>\n",
       "      <td>2</td>\n",
       "      <td>5</td>\n",
       "      <td>0</td>\n",
       "      <td>0</td>\n",
       "    </tr>\n",
       "    <tr>\n",
       "      <th>1</th>\n",
       "      <td>33990</td>\n",
       "      <td>4.2</td>\n",
       "      <td>8</td>\n",
       "      <td>3</td>\n",
       "      <td>11</td>\n",
       "      <td>8</td>\n",
       "      <td>15.60</td>\n",
       "      <td>3</td>\n",
       "      <td>1</td>\n",
       "      <td>8</td>\n",
       "      <td>6</td>\n",
       "      <td>0</td>\n",
       "      <td>0</td>\n",
       "    </tr>\n",
       "    <tr>\n",
       "      <th>2</th>\n",
       "      <td>21990</td>\n",
       "      <td>4.1</td>\n",
       "      <td>4</td>\n",
       "      <td>2</td>\n",
       "      <td>0</td>\n",
       "      <td>2</td>\n",
       "      <td>14.00</td>\n",
       "      <td>3</td>\n",
       "      <td>1</td>\n",
       "      <td>1</td>\n",
       "      <td>6</td>\n",
       "      <td>0</td>\n",
       "      <td>0</td>\n",
       "    </tr>\n",
       "    <tr>\n",
       "      <th>3</th>\n",
       "      <td>34990</td>\n",
       "      <td>4.2</td>\n",
       "      <td>8</td>\n",
       "      <td>3</td>\n",
       "      <td>11</td>\n",
       "      <td>2</td>\n",
       "      <td>15.60</td>\n",
       "      <td>3</td>\n",
       "      <td>1</td>\n",
       "      <td>8</td>\n",
       "      <td>6</td>\n",
       "      <td>0</td>\n",
       "      <td>0</td>\n",
       "    </tr>\n",
       "    <tr>\n",
       "      <th>4</th>\n",
       "      <td>37990</td>\n",
       "      <td>4.1</td>\n",
       "      <td>8</td>\n",
       "      <td>5</td>\n",
       "      <td>11</td>\n",
       "      <td>12</td>\n",
       "      <td>15.60</td>\n",
       "      <td>3</td>\n",
       "      <td>1</td>\n",
       "      <td>9</td>\n",
       "      <td>6</td>\n",
       "      <td>0</td>\n",
       "      <td>0</td>\n",
       "    </tr>\n",
       "    <tr>\n",
       "      <th>...</th>\n",
       "      <td>...</td>\n",
       "      <td>...</td>\n",
       "      <td>...</td>\n",
       "      <td>...</td>\n",
       "      <td>...</td>\n",
       "      <td>...</td>\n",
       "      <td>...</td>\n",
       "      <td>...</td>\n",
       "      <td>...</td>\n",
       "      <td>...</td>\n",
       "      <td>...</td>\n",
       "      <td>...</td>\n",
       "      <td>...</td>\n",
       "    </tr>\n",
       "    <tr>\n",
       "      <th>888</th>\n",
       "      <td>39990</td>\n",
       "      <td>3.9</td>\n",
       "      <td>8</td>\n",
       "      <td>3</td>\n",
       "      <td>12</td>\n",
       "      <td>8</td>\n",
       "      <td>36.62</td>\n",
       "      <td>3</td>\n",
       "      <td>1</td>\n",
       "      <td>8</td>\n",
       "      <td>6</td>\n",
       "      <td>0</td>\n",
       "      <td>0</td>\n",
       "    </tr>\n",
       "    <tr>\n",
       "      <th>889</th>\n",
       "      <td>66490</td>\n",
       "      <td>1.6</td>\n",
       "      <td>8</td>\n",
       "      <td>5</td>\n",
       "      <td>5</td>\n",
       "      <td>4</td>\n",
       "      <td>15.60</td>\n",
       "      <td>1</td>\n",
       "      <td>1</td>\n",
       "      <td>9</td>\n",
       "      <td>6</td>\n",
       "      <td>1</td>\n",
       "      <td>1</td>\n",
       "    </tr>\n",
       "    <tr>\n",
       "      <th>890</th>\n",
       "      <td>56426</td>\n",
       "      <td>4.1</td>\n",
       "      <td>8</td>\n",
       "      <td>3</td>\n",
       "      <td>11</td>\n",
       "      <td>4</td>\n",
       "      <td>14.00</td>\n",
       "      <td>3</td>\n",
       "      <td>1</td>\n",
       "      <td>8</td>\n",
       "      <td>2</td>\n",
       "      <td>0</td>\n",
       "      <td>0</td>\n",
       "    </tr>\n",
       "    <tr>\n",
       "      <th>891</th>\n",
       "      <td>54990</td>\n",
       "      <td>4.5</td>\n",
       "      <td>8</td>\n",
       "      <td>5</td>\n",
       "      <td>8</td>\n",
       "      <td>15</td>\n",
       "      <td>14.00</td>\n",
       "      <td>3</td>\n",
       "      <td>1</td>\n",
       "      <td>9</td>\n",
       "      <td>6</td>\n",
       "      <td>1</td>\n",
       "      <td>0</td>\n",
       "    </tr>\n",
       "    <tr>\n",
       "      <th>892</th>\n",
       "      <td>51500</td>\n",
       "      <td>4.3</td>\n",
       "      <td>8</td>\n",
       "      <td>5</td>\n",
       "      <td>11</td>\n",
       "      <td>8</td>\n",
       "      <td>15.60</td>\n",
       "      <td>3</td>\n",
       "      <td>1</td>\n",
       "      <td>9</td>\n",
       "      <td>6</td>\n",
       "      <td>0</td>\n",
       "      <td>0</td>\n",
       "    </tr>\n",
       "  </tbody>\n",
       "</table>\n",
       "<p>893 rows × 13 columns</p>\n",
       "</div>"
      ],
      "text/plain": [
       "     Price  Rating  Ram  Cores  Generation  Brand_name_encoded  display  \\\n",
       "0    16990     4.1    4      0           0                  11    11.60   \n",
       "1    33990     4.2    8      3          11                   8    15.60   \n",
       "2    21990     4.1    4      2           0                   2    14.00   \n",
       "3    34990     4.2    8      3          11                   2    15.60   \n",
       "4    37990     4.1    8      5          11                  12    15.60   \n",
       "..     ...     ...  ...    ...         ...                 ...      ...   \n",
       "888  39990     3.9    8      3          12                   8    36.62   \n",
       "889  66490     1.6    8      5           5                   4    15.60   \n",
       "890  56426     4.1    8      3          11                   4    14.00   \n",
       "891  54990     4.5    8      5           8                  15    14.00   \n",
       "892  51500     4.3    8      5          11                   8    15.60   \n",
       "\n",
       "     disk_drive_name_encoded  p_brand_name_encoded  \\\n",
       "0                          2                     2   \n",
       "1                          3                     1   \n",
       "2                          3                     1   \n",
       "3                          3                     1   \n",
       "4                          3                     1   \n",
       "..                       ...                   ...   \n",
       "888                        3                     1   \n",
       "889                        1                     1   \n",
       "890                        3                     1   \n",
       "891                        3                     1   \n",
       "892                        3                     1   \n",
       "\n",
       "     processor_type_name_encoded  OS_name_encoded  graphic_card_name_encoded  \\\n",
       "0                              2                5                          0   \n",
       "1                              8                6                          0   \n",
       "2                              1                6                          0   \n",
       "3                              8                6                          0   \n",
       "4                              9                6                          0   \n",
       "..                           ...              ...                        ...   \n",
       "888                            8                6                          0   \n",
       "889                            9                6                          1   \n",
       "890                            8                2                          0   \n",
       "891                            9                6                          1   \n",
       "892                            9                6                          0   \n",
       "\n",
       "     touchscreen_name_encoded  \n",
       "0                           0  \n",
       "1                           0  \n",
       "2                           0  \n",
       "3                           0  \n",
       "4                           0  \n",
       "..                        ...  \n",
       "888                         0  \n",
       "889                         1  \n",
       "890                         0  \n",
       "891                         0  \n",
       "892                         0  \n",
       "\n",
       "[893 rows x 13 columns]"
      ]
     },
     "execution_count": 28,
     "metadata": {},
     "output_type": "execute_result"
    }
   ],
   "source": [
    "df_model"
   ]
  },
  {
   "cell_type": "code",
   "execution_count": 29,
   "id": "69924f2a",
   "metadata": {},
   "outputs": [],
   "source": [
    "X = df_model.drop('Price',axis=1)\n",
    "Y = df_model['Price'].values"
   ]
  },
  {
   "cell_type": "code",
   "execution_count": null,
   "id": "727379a3",
   "metadata": {},
   "outputs": [],
   "source": []
  },
  {
   "cell_type": "code",
   "execution_count": 30,
   "id": "dcf32c36",
   "metadata": {},
   "outputs": [
    {
     "data": {
      "text/plain": [
       "4.1    217\n",
       "4.4    172\n",
       "4.2    172\n",
       "4.3    106\n",
       "3.9     44\n",
       "4.0     40\n",
       "4.5     32\n",
       "3.8     25\n",
       "4.8     20\n",
       "5.0     14\n",
       "4.7     13\n",
       "4.6     12\n",
       "4.9      7\n",
       "3.7      6\n",
       "3.6      5\n",
       "3.0      2\n",
       "2.8      2\n",
       "3.5      1\n",
       "1.0      1\n",
       "1.7      1\n",
       "1.6      1\n",
       "Name: Rating, dtype: int64"
      ]
     },
     "execution_count": 30,
     "metadata": {},
     "output_type": "execute_result"
    }
   ],
   "source": [
    "X[\"Rating\"].value_counts()"
   ]
  },
  {
   "cell_type": "code",
   "execution_count": 31,
   "id": "279f9cb6",
   "metadata": {},
   "outputs": [
    {
     "name": "stdout",
     "output_type": "stream",
     "text": [
      "<class 'pandas.core.frame.DataFrame'>\n",
      "RangeIndex: 893 entries, 0 to 892\n",
      "Data columns (total 12 columns):\n",
      " #   Column                       Non-Null Count  Dtype  \n",
      "---  ------                       --------------  -----  \n",
      " 0   Rating                       893 non-null    float64\n",
      " 1   Ram                          893 non-null    int64  \n",
      " 2   Cores                        893 non-null    int64  \n",
      " 3   Generation                   893 non-null    int64  \n",
      " 4   Brand_name_encoded           893 non-null    int32  \n",
      " 5   display                      893 non-null    float64\n",
      " 6   disk_drive_name_encoded      893 non-null    int32  \n",
      " 7   p_brand_name_encoded         893 non-null    int32  \n",
      " 8   processor_type_name_encoded  893 non-null    int32  \n",
      " 9   OS_name_encoded              893 non-null    int32  \n",
      " 10  graphic_card_name_encoded    893 non-null    int32  \n",
      " 11  touchscreen_name_encoded     893 non-null    int32  \n",
      "dtypes: float64(2), int32(7), int64(3)\n",
      "memory usage: 59.4 KB\n"
     ]
    }
   ],
   "source": [
    "X.info()"
   ]
  },
  {
   "cell_type": "code",
   "execution_count": 32,
   "id": "19bef9d3",
   "metadata": {},
   "outputs": [
    {
     "data": {
      "text/plain": [
       "array([ 16990,  33990,  21990,  34990,  37990,  39990,  32990,  39990,\n",
       "        31990,  34990,  58990,  43990,  35990,  56490,  52990,  38990,\n",
       "        54990,  45990,  52990,  49990,  54990,  54990,  39990,  38990,\n",
       "        52990,  16990,  38990,  49990,  34999,  33990,  44200,  33990,\n",
       "        16990,  47990,  66800,  18990,  34096,  52990,  39990,  54990,\n",
       "        38990,  45990,  52990,  45490,  27990,  71990,  18990,  36990,\n",
       "        51930,  16990,  74990,  37990,  39990,  33990,  63990,  39990,\n",
       "        94990,  16990,  38990,  39990,  54990,  58990,  51500,  84990,\n",
       "        36990,  54990,  16990,  39990,  63990,  33990, 159990,  85990,\n",
       "        16990,  47990,  30990,  37990,  18990,  45990,  59990,  38490,\n",
       "        53990,  36990,  39999, 299990,  52990,  89990,  40990,  16990,\n",
       "       359990,  84990,  99999,  33990,  59990,  50990,  54990,  16990,\n",
       "       104990, 559990,  39990,  18990,  39990,  54990,  53990, 104990,\n",
       "        44990,  40990,  52990,  19990, 159990, 359990,  16990,  97990,\n",
       "       189990,  29990,  33990,  44990,  99999,  33990,  16990, 559990,\n",
       "        47990,  68990,  58990,  40990,  59990,  39990,  59990,  27990,\n",
       "        45990,  18990,  56990,  66990, 189990,  16990, 110990, 104990,\n",
       "        18990,  48490,  72990,  27990,  33990,  90990,  87990,  87499,\n",
       "        16990, 124990,  47990, 129990,  58990,  84890, 149990, 274990,\n",
       "        39990,  47999,  22999,  78490,  16990, 144990,  89990,  33990,\n",
       "        46990,  52990,  84999,  16990,  34990,  86885,  68990,  18990,\n",
       "        59990,  50990,  23490,  39990,  79990,  52990, 166499,  16990,\n",
       "        82990, 110990, 177990,  33990,  54990, 145990, 304990,  16990,\n",
       "        40400, 361990, 146990,  18990,  42690,  56990,  39990,  67990,\n",
       "       174990,  59990,  54990,  63990,  34990, 281990,  18990,  96990,\n",
       "       174990,  16990,  56990, 138990,  33990,  82990, 166499, 177990,\n",
       "        16990,  46990,  56990,  37990,  53990,  20990,  38990, 361990,\n",
       "        51500, 161990,  60490, 113990,  16990, 379990,  40990,  62990,\n",
       "        33990, 100790,  51969,  22999,  16990,  36990,  18990,  39420,\n",
       "        44490,  51500,  78490,  80990, 199999,  39990,  89990, 154990,\n",
       "        16990,  69490, 102219,  34990,  33990, 269990,  53990,  54990,\n",
       "        16990,  40990, 181990,  26599,  58990, 279990, 105990,  87990,\n",
       "        39990,  82490,  71573,  74990,  18990,  26599, 279990, 105990,\n",
       "        16990,  27490, 101990, 129990,  33990,  93749, 339990,  16990,\n",
       "        38990,  58990,  99000,  39990,  88990,  87990,  82490,  18990,\n",
       "        71573,  62999,  84990,  56990,  53990,  78490,  16990,  47990,\n",
       "        79990,  67990,  33990, 123990, 154990, 129990,  16990, 250000,\n",
       "       199990, 274990,  18990,  49990, 193990,  29790,  53990,  88990,\n",
       "        64990,  52990, 250000, 199990, 274990,  16990, 193990,  88990,\n",
       "        69490,  33990, 124990, 364990,  59990,  16990,  34990, 154490,\n",
       "        33990,  18990, 104990,  74990,  42907,  39990,  40490,  62990,\n",
       "        82990,  52990, 105890,  59990,  74999,  16990,  45890, 211990,\n",
       "        35990,  33990,  48499, 138990,  65990,  16990,  86990, 144990,\n",
       "        79990,  18990,  84890, 165990,  84990,  39990,  66418,  54990,\n",
       "        52990,  84990,  27490,  66418,  16990,  63990,  33990,  87990,\n",
       "        33990,  78490,  79990,  54990,  16990,  78990, 105672,  99990,\n",
       "        18990,  62999,  55890,  29990,  39990,  76990, 269990,  63990,\n",
       "        52990,  79990,  54990,  78990,  18990,  57990, 211990,  16990,\n",
       "       119990,  41649, 269990,  33990,  79900, 104990,  91990,  16990,\n",
       "        53400,  33990, 202490,  53990,  78680,  47499,  53990,  51500,\n",
       "        89990, 136990,  18990,  42990,  38990, 157375,  16990,  34990,\n",
       "       219990,  79990,  33990,  39990, 325990,  85990,  16990, 149990,\n",
       "        39990, 304980,  53990,  97990,  79990,  95990,  51500,  46990,\n",
       "        63990,  18990,  63990,  77990,  42690,  16990, 399990,  57490,\n",
       "        76990,  33990,  74490, 118045,  62990,  16990,  68490,  57990,\n",
       "       144990,  39990,  54990,  65990, 144990,  51500,  89990, 136990,\n",
       "        84990,  18990,  46490,  87990,  35990,  16990, 182990,  97990,\n",
       "        95990,  33990,  27490,  46990,  16990,  75990,  91990, 144990,\n",
       "        39990,  53499,  59990, 189990,  51500,  44490,  74990,  73990,\n",
       "        16990,  58990,  84419,  55990,  33990,  34990,  76198, 182990,\n",
       "        16990,  53850,  74490, 146990,  18990,  99990,  75990,  91990,\n",
       "        53990, 144990,  54990,  79990,  52990,  75990, 154990,  62490,\n",
       "        16990,  62490,  50499,  73048,  33990,  46990,  58490,  89990,\n",
       "        16990, 129990,  25990, 249990,  18990,  91141, 107699,  57990,\n",
       "        39990,  96990, 188490,  71990,  58990,  42990, 162490,  72990,\n",
       "        16990,  41499,  38990,  69490,  33990,  98990,  50490,  62990,\n",
       "        16990, 127990,  44290,  55990,  18990,  79990, 110380, 179990,\n",
       "        53990,  58340,  54990, 140131,  52990,  16990,  60130,  44290,\n",
       "        16990,  31990,  58340, 199990,  33990,  33990,  79990,  33990,\n",
       "        16990,  76990,  57990, 113990,  58990,  45055,  38990,  68990,\n",
       "        39990,  56990,  58990, 137990,  18990,  76990,  35990,  96999,\n",
       "        16990,  94990,  48990,  77441,  33990,  91990,  50990,  16990,\n",
       "       117990, 124990,  39490,  18990,  44190,  48990, 171990,  51500,\n",
       "        71990,  76990,  40699,  39990, 234990,  87490,  60990,  18990,\n",
       "       144990,  35360, 137990,  16990,  49490,  29990,  33990, 244990,\n",
       "       109990,  23990,  16990, 150490, 275990,  39990,  49990,  52990,\n",
       "       104990,  58990,  99990,  42990,  21990,  18990,  37990,  64700,\n",
       "        31490,  16990,  73890,  70990,  67990,  33990,  59990,  32000,\n",
       "       129990,  16990,  74190, 129490,  77070,  53990,  67490,  42990,\n",
       "        51500, 106199, 122665,  34990,  18990,  46990,  59990, 129990,\n",
       "        16990,  51500,  19990,  33990,  64990,  94490,  16990,  64999,\n",
       "       219990,  64990,  39990,  69990,  76990,  61690,  58990, 169990,\n",
       "       152990, 179990,  16990, 209990, 289990, 179990,  33990,  52990,\n",
       "        57990,  26990,  16990,  91500, 136590,  57500,  18990,  37990,\n",
       "        99990,  72990,  39990,  30200,  84990,  32000,  58990,  72990,\n",
       "       144990,  99990, 150990,  84419, 144990,  52990,  61990,  84990,\n",
       "       129990,  29990,  71990,  84990, 264990,  60990,  39990,  22999,\n",
       "       159990, 214990,  31900,  39990, 135990, 239990, 144990,  31900,\n",
       "        39990, 135990,  16990, 113990, 129990,  85990,  33990,  88000,\n",
       "        97990,  70990,  16990, 114990, 246490,  55990,  58990, 191990,\n",
       "        85900, 199990,  39990,  60890, 149990,  18990,  84900, 154990,\n",
       "        54990,  16990, 165490, 104990,  84990,  33990,  43490,  87830,\n",
       "        68804,  16990,  49950,  61499,  67990,  18990, 155411, 189990,\n",
       "       116990,  39990,  72990,  51990,  35500,  58990,  57990,  27490,\n",
       "        40490,  16990, 104990, 300490, 246490,  33990, 154990,  54990,\n",
       "        16990, 131990,  61499, 165490,  18990, 147990,  44990,  39490,\n",
       "        39990,  67990, 155411,  68804,  51500, 117990,  75999,  51990,\n",
       "        16990,  57890,  61255, 150990,  33990,  52990, 164990,  71990,\n",
       "        16990,  56990,  67210, 115999,  18990,  73890,  63990, 112442,\n",
       "        39990, 185000, 114990,  39490,  52990,  95225,  70990,  34480,\n",
       "        16990,  94990,  61000,  24990,  33990,  37490,  18990,  60990,\n",
       "        16990,  89490, 108990, 114990,  18990,  40890,  52489,  39990,\n",
       "        39990,  63990,  72150,  59990,  58990,  37490,  40890,  63990,\n",
       "        16990,  52489,  39990,  72150,  33990,  49852,  59990,  39283,\n",
       "        16990,  69490,  60990,  41950,  18990,  56990,  36990,  39990,\n",
       "        39990,  79990,  59990,  41999,  52990,  66490,  54999,  45000,\n",
       "        16990, 199990, 189990, 162990,  33990,  58990,  88490,  39990,\n",
       "        16990, 359990,  54490,  72500,  18990,  45990,  48990,  52990,\n",
       "        39990,  49990,  26990,  61990,  58990,  61380, 107900,  66990,\n",
       "        18990,  45990, 142490,  52990,  16990,  74990,  73990,  83990,\n",
       "        33990,  40990, 117990,  70990,  16990,  83500,  31590,  46990,\n",
       "        39990,  66490,  56426,  54990,  51500], dtype=int64)"
      ]
     },
     "execution_count": 32,
     "metadata": {},
     "output_type": "execute_result"
    }
   ],
   "source": [
    "Y"
   ]
  },
  {
   "cell_type": "code",
   "execution_count": 33,
   "id": "28f162b8",
   "metadata": {},
   "outputs": [
    {
     "data": {
      "text/html": [
       "<div>\n",
       "<style scoped>\n",
       "    .dataframe tbody tr th:only-of-type {\n",
       "        vertical-align: middle;\n",
       "    }\n",
       "\n",
       "    .dataframe tbody tr th {\n",
       "        vertical-align: top;\n",
       "    }\n",
       "\n",
       "    .dataframe thead th {\n",
       "        text-align: right;\n",
       "    }\n",
       "</style>\n",
       "<table border=\"1\" class=\"dataframe\">\n",
       "  <thead>\n",
       "    <tr style=\"text-align: right;\">\n",
       "      <th></th>\n",
       "      <th>Price</th>\n",
       "      <th>Rating</th>\n",
       "      <th>Ram</th>\n",
       "      <th>Cores</th>\n",
       "      <th>Generation</th>\n",
       "      <th>Brand_name_encoded</th>\n",
       "      <th>display</th>\n",
       "      <th>disk_drive_name_encoded</th>\n",
       "      <th>p_brand_name_encoded</th>\n",
       "      <th>processor_type_name_encoded</th>\n",
       "      <th>OS_name_encoded</th>\n",
       "      <th>graphic_card_name_encoded</th>\n",
       "      <th>touchscreen_name_encoded</th>\n",
       "    </tr>\n",
       "  </thead>\n",
       "  <tbody>\n",
       "    <tr>\n",
       "      <th>Price</th>\n",
       "      <td>1.000000</td>\n",
       "      <td>0.243156</td>\n",
       "      <td>0.859079</td>\n",
       "      <td>0.738668</td>\n",
       "      <td>0.260349</td>\n",
       "      <td>-0.328606</td>\n",
       "      <td>0.042004</td>\n",
       "      <td>0.184604</td>\n",
       "      <td>-0.209542</td>\n",
       "      <td>0.517712</td>\n",
       "      <td>0.214060</td>\n",
       "      <td>0.448272</td>\n",
       "      <td>0.169267</td>\n",
       "    </tr>\n",
       "    <tr>\n",
       "      <th>Rating</th>\n",
       "      <td>0.243156</td>\n",
       "      <td>1.000000</td>\n",
       "      <td>0.255501</td>\n",
       "      <td>0.300608</td>\n",
       "      <td>0.012269</td>\n",
       "      <td>-0.240036</td>\n",
       "      <td>-0.145958</td>\n",
       "      <td>0.201213</td>\n",
       "      <td>-0.203123</td>\n",
       "      <td>0.150295</td>\n",
       "      <td>0.156394</td>\n",
       "      <td>0.118701</td>\n",
       "      <td>0.046760</td>\n",
       "    </tr>\n",
       "    <tr>\n",
       "      <th>Ram</th>\n",
       "      <td>0.859079</td>\n",
       "      <td>0.255501</td>\n",
       "      <td>1.000000</td>\n",
       "      <td>0.729326</td>\n",
       "      <td>0.281769</td>\n",
       "      <td>-0.312943</td>\n",
       "      <td>0.058677</td>\n",
       "      <td>0.242530</td>\n",
       "      <td>-0.273167</td>\n",
       "      <td>0.524612</td>\n",
       "      <td>0.269595</td>\n",
       "      <td>0.373763</td>\n",
       "      <td>0.211094</td>\n",
       "    </tr>\n",
       "    <tr>\n",
       "      <th>Cores</th>\n",
       "      <td>0.738668</td>\n",
       "      <td>0.300608</td>\n",
       "      <td>0.729326</td>\n",
       "      <td>1.000000</td>\n",
       "      <td>0.310237</td>\n",
       "      <td>-0.412548</td>\n",
       "      <td>0.137406</td>\n",
       "      <td>0.330800</td>\n",
       "      <td>-0.559384</td>\n",
       "      <td>0.688105</td>\n",
       "      <td>0.361621</td>\n",
       "      <td>0.483128</td>\n",
       "      <td>0.157356</td>\n",
       "    </tr>\n",
       "    <tr>\n",
       "      <th>Generation</th>\n",
       "      <td>0.260349</td>\n",
       "      <td>0.012269</td>\n",
       "      <td>0.281769</td>\n",
       "      <td>0.310237</td>\n",
       "      <td>1.000000</td>\n",
       "      <td>-0.042881</td>\n",
       "      <td>0.223060</td>\n",
       "      <td>0.200352</td>\n",
       "      <td>0.253389</td>\n",
       "      <td>0.849955</td>\n",
       "      <td>0.245782</td>\n",
       "      <td>0.086362</td>\n",
       "      <td>0.064646</td>\n",
       "    </tr>\n",
       "    <tr>\n",
       "      <th>Brand_name_encoded</th>\n",
       "      <td>-0.328606</td>\n",
       "      <td>-0.240036</td>\n",
       "      <td>-0.312943</td>\n",
       "      <td>-0.412548</td>\n",
       "      <td>-0.042881</td>\n",
       "      <td>1.000000</td>\n",
       "      <td>-0.057756</td>\n",
       "      <td>-0.201260</td>\n",
       "      <td>0.406703</td>\n",
       "      <td>-0.217016</td>\n",
       "      <td>-0.118113</td>\n",
       "      <td>-0.113681</td>\n",
       "      <td>-0.212422</td>\n",
       "    </tr>\n",
       "    <tr>\n",
       "      <th>display</th>\n",
       "      <td>0.042004</td>\n",
       "      <td>-0.145958</td>\n",
       "      <td>0.058677</td>\n",
       "      <td>0.137406</td>\n",
       "      <td>0.223060</td>\n",
       "      <td>-0.057756</td>\n",
       "      <td>1.000000</td>\n",
       "      <td>0.180209</td>\n",
       "      <td>-0.182801</td>\n",
       "      <td>0.231217</td>\n",
       "      <td>0.168065</td>\n",
       "      <td>0.090271</td>\n",
       "      <td>-0.114232</td>\n",
       "    </tr>\n",
       "    <tr>\n",
       "      <th>disk_drive_name_encoded</th>\n",
       "      <td>0.184604</td>\n",
       "      <td>0.201213</td>\n",
       "      <td>0.242530</td>\n",
       "      <td>0.330800</td>\n",
       "      <td>0.200352</td>\n",
       "      <td>-0.201260</td>\n",
       "      <td>0.180209</td>\n",
       "      <td>1.000000</td>\n",
       "      <td>-0.306432</td>\n",
       "      <td>0.281683</td>\n",
       "      <td>0.269782</td>\n",
       "      <td>0.069795</td>\n",
       "      <td>0.035920</td>\n",
       "    </tr>\n",
       "    <tr>\n",
       "      <th>p_brand_name_encoded</th>\n",
       "      <td>-0.209542</td>\n",
       "      <td>-0.203123</td>\n",
       "      <td>-0.273167</td>\n",
       "      <td>-0.559384</td>\n",
       "      <td>0.253389</td>\n",
       "      <td>0.406703</td>\n",
       "      <td>-0.182801</td>\n",
       "      <td>-0.306432</td>\n",
       "      <td>1.000000</td>\n",
       "      <td>-0.099295</td>\n",
       "      <td>-0.283673</td>\n",
       "      <td>-0.202070</td>\n",
       "      <td>-0.052873</td>\n",
       "    </tr>\n",
       "    <tr>\n",
       "      <th>processor_type_name_encoded</th>\n",
       "      <td>0.517712</td>\n",
       "      <td>0.150295</td>\n",
       "      <td>0.524612</td>\n",
       "      <td>0.688105</td>\n",
       "      <td>0.849955</td>\n",
       "      <td>-0.217016</td>\n",
       "      <td>0.231217</td>\n",
       "      <td>0.281683</td>\n",
       "      <td>-0.099295</td>\n",
       "      <td>1.000000</td>\n",
       "      <td>0.407467</td>\n",
       "      <td>0.299596</td>\n",
       "      <td>0.098980</td>\n",
       "    </tr>\n",
       "    <tr>\n",
       "      <th>OS_name_encoded</th>\n",
       "      <td>0.214060</td>\n",
       "      <td>0.156394</td>\n",
       "      <td>0.269595</td>\n",
       "      <td>0.361621</td>\n",
       "      <td>0.245782</td>\n",
       "      <td>-0.118113</td>\n",
       "      <td>0.168065</td>\n",
       "      <td>0.269782</td>\n",
       "      <td>-0.283673</td>\n",
       "      <td>0.407467</td>\n",
       "      <td>1.000000</td>\n",
       "      <td>0.164388</td>\n",
       "      <td>-0.097114</td>\n",
       "    </tr>\n",
       "    <tr>\n",
       "      <th>graphic_card_name_encoded</th>\n",
       "      <td>0.448272</td>\n",
       "      <td>0.118701</td>\n",
       "      <td>0.373763</td>\n",
       "      <td>0.483128</td>\n",
       "      <td>0.086362</td>\n",
       "      <td>-0.113681</td>\n",
       "      <td>0.090271</td>\n",
       "      <td>0.069795</td>\n",
       "      <td>-0.202070</td>\n",
       "      <td>0.299596</td>\n",
       "      <td>0.164388</td>\n",
       "      <td>1.000000</td>\n",
       "      <td>-0.050226</td>\n",
       "    </tr>\n",
       "    <tr>\n",
       "      <th>touchscreen_name_encoded</th>\n",
       "      <td>0.169267</td>\n",
       "      <td>0.046760</td>\n",
       "      <td>0.211094</td>\n",
       "      <td>0.157356</td>\n",
       "      <td>0.064646</td>\n",
       "      <td>-0.212422</td>\n",
       "      <td>-0.114232</td>\n",
       "      <td>0.035920</td>\n",
       "      <td>-0.052873</td>\n",
       "      <td>0.098980</td>\n",
       "      <td>-0.097114</td>\n",
       "      <td>-0.050226</td>\n",
       "      <td>1.000000</td>\n",
       "    </tr>\n",
       "  </tbody>\n",
       "</table>\n",
       "</div>"
      ],
      "text/plain": [
       "                                Price    Rating       Ram     Cores  \\\n",
       "Price                        1.000000  0.243156  0.859079  0.738668   \n",
       "Rating                       0.243156  1.000000  0.255501  0.300608   \n",
       "Ram                          0.859079  0.255501  1.000000  0.729326   \n",
       "Cores                        0.738668  0.300608  0.729326  1.000000   \n",
       "Generation                   0.260349  0.012269  0.281769  0.310237   \n",
       "Brand_name_encoded          -0.328606 -0.240036 -0.312943 -0.412548   \n",
       "display                      0.042004 -0.145958  0.058677  0.137406   \n",
       "disk_drive_name_encoded      0.184604  0.201213  0.242530  0.330800   \n",
       "p_brand_name_encoded        -0.209542 -0.203123 -0.273167 -0.559384   \n",
       "processor_type_name_encoded  0.517712  0.150295  0.524612  0.688105   \n",
       "OS_name_encoded              0.214060  0.156394  0.269595  0.361621   \n",
       "graphic_card_name_encoded    0.448272  0.118701  0.373763  0.483128   \n",
       "touchscreen_name_encoded     0.169267  0.046760  0.211094  0.157356   \n",
       "\n",
       "                             Generation  Brand_name_encoded   display  \\\n",
       "Price                          0.260349           -0.328606  0.042004   \n",
       "Rating                         0.012269           -0.240036 -0.145958   \n",
       "Ram                            0.281769           -0.312943  0.058677   \n",
       "Cores                          0.310237           -0.412548  0.137406   \n",
       "Generation                     1.000000           -0.042881  0.223060   \n",
       "Brand_name_encoded            -0.042881            1.000000 -0.057756   \n",
       "display                        0.223060           -0.057756  1.000000   \n",
       "disk_drive_name_encoded        0.200352           -0.201260  0.180209   \n",
       "p_brand_name_encoded           0.253389            0.406703 -0.182801   \n",
       "processor_type_name_encoded    0.849955           -0.217016  0.231217   \n",
       "OS_name_encoded                0.245782           -0.118113  0.168065   \n",
       "graphic_card_name_encoded      0.086362           -0.113681  0.090271   \n",
       "touchscreen_name_encoded       0.064646           -0.212422 -0.114232   \n",
       "\n",
       "                             disk_drive_name_encoded  p_brand_name_encoded  \\\n",
       "Price                                       0.184604             -0.209542   \n",
       "Rating                                      0.201213             -0.203123   \n",
       "Ram                                         0.242530             -0.273167   \n",
       "Cores                                       0.330800             -0.559384   \n",
       "Generation                                  0.200352              0.253389   \n",
       "Brand_name_encoded                         -0.201260              0.406703   \n",
       "display                                     0.180209             -0.182801   \n",
       "disk_drive_name_encoded                     1.000000             -0.306432   \n",
       "p_brand_name_encoded                       -0.306432              1.000000   \n",
       "processor_type_name_encoded                 0.281683             -0.099295   \n",
       "OS_name_encoded                             0.269782             -0.283673   \n",
       "graphic_card_name_encoded                   0.069795             -0.202070   \n",
       "touchscreen_name_encoded                    0.035920             -0.052873   \n",
       "\n",
       "                             processor_type_name_encoded  OS_name_encoded  \\\n",
       "Price                                           0.517712         0.214060   \n",
       "Rating                                          0.150295         0.156394   \n",
       "Ram                                             0.524612         0.269595   \n",
       "Cores                                           0.688105         0.361621   \n",
       "Generation                                      0.849955         0.245782   \n",
       "Brand_name_encoded                             -0.217016        -0.118113   \n",
       "display                                         0.231217         0.168065   \n",
       "disk_drive_name_encoded                         0.281683         0.269782   \n",
       "p_brand_name_encoded                           -0.099295        -0.283673   \n",
       "processor_type_name_encoded                     1.000000         0.407467   \n",
       "OS_name_encoded                                 0.407467         1.000000   \n",
       "graphic_card_name_encoded                       0.299596         0.164388   \n",
       "touchscreen_name_encoded                        0.098980        -0.097114   \n",
       "\n",
       "                             graphic_card_name_encoded  \\\n",
       "Price                                         0.448272   \n",
       "Rating                                        0.118701   \n",
       "Ram                                           0.373763   \n",
       "Cores                                         0.483128   \n",
       "Generation                                    0.086362   \n",
       "Brand_name_encoded                           -0.113681   \n",
       "display                                       0.090271   \n",
       "disk_drive_name_encoded                       0.069795   \n",
       "p_brand_name_encoded                         -0.202070   \n",
       "processor_type_name_encoded                   0.299596   \n",
       "OS_name_encoded                               0.164388   \n",
       "graphic_card_name_encoded                     1.000000   \n",
       "touchscreen_name_encoded                     -0.050226   \n",
       "\n",
       "                             touchscreen_name_encoded  \n",
       "Price                                        0.169267  \n",
       "Rating                                       0.046760  \n",
       "Ram                                          0.211094  \n",
       "Cores                                        0.157356  \n",
       "Generation                                   0.064646  \n",
       "Brand_name_encoded                          -0.212422  \n",
       "display                                     -0.114232  \n",
       "disk_drive_name_encoded                      0.035920  \n",
       "p_brand_name_encoded                        -0.052873  \n",
       "processor_type_name_encoded                  0.098980  \n",
       "OS_name_encoded                             -0.097114  \n",
       "graphic_card_name_encoded                   -0.050226  \n",
       "touchscreen_name_encoded                     1.000000  "
      ]
     },
     "execution_count": 33,
     "metadata": {},
     "output_type": "execute_result"
    }
   ],
   "source": [
    "df_model.corr()\n"
   ]
  },
  {
   "cell_type": "code",
   "execution_count": 34,
   "id": "24a6c460",
   "metadata": {},
   "outputs": [],
   "source": [
    "from sklearn.model_selection import train_test_split\n",
    "X_train,X_test,Y_train,Y_test = train_test_split(X,Y,test_size=0.2,random_state=42)"
   ]
  },
  {
   "cell_type": "code",
   "execution_count": 35,
   "id": "090f42a1",
   "metadata": {},
   "outputs": [
    {
     "data": {
      "text/html": [
       "<div>\n",
       "<style scoped>\n",
       "    .dataframe tbody tr th:only-of-type {\n",
       "        vertical-align: middle;\n",
       "    }\n",
       "\n",
       "    .dataframe tbody tr th {\n",
       "        vertical-align: top;\n",
       "    }\n",
       "\n",
       "    .dataframe thead th {\n",
       "        text-align: right;\n",
       "    }\n",
       "</style>\n",
       "<table border=\"1\" class=\"dataframe\">\n",
       "  <thead>\n",
       "    <tr style=\"text-align: right;\">\n",
       "      <th></th>\n",
       "      <th>Rating</th>\n",
       "      <th>Ram</th>\n",
       "      <th>Cores</th>\n",
       "      <th>Generation</th>\n",
       "      <th>Brand_name_encoded</th>\n",
       "      <th>display</th>\n",
       "      <th>disk_drive_name_encoded</th>\n",
       "      <th>p_brand_name_encoded</th>\n",
       "      <th>processor_type_name_encoded</th>\n",
       "      <th>OS_name_encoded</th>\n",
       "      <th>graphic_card_name_encoded</th>\n",
       "      <th>touchscreen_name_encoded</th>\n",
       "    </tr>\n",
       "  </thead>\n",
       "  <tbody>\n",
       "    <tr>\n",
       "      <th>331</th>\n",
       "      <td>4.4</td>\n",
       "      <td>8</td>\n",
       "      <td>5</td>\n",
       "      <td>13</td>\n",
       "      <td>2</td>\n",
       "      <td>14.0</td>\n",
       "      <td>3</td>\n",
       "      <td>1</td>\n",
       "      <td>9</td>\n",
       "      <td>6</td>\n",
       "      <td>0</td>\n",
       "      <td>0</td>\n",
       "    </tr>\n",
       "    <tr>\n",
       "      <th>734</th>\n",
       "      <td>4.4</td>\n",
       "      <td>8</td>\n",
       "      <td>4</td>\n",
       "      <td>0</td>\n",
       "      <td>4</td>\n",
       "      <td>14.0</td>\n",
       "      <td>3</td>\n",
       "      <td>0</td>\n",
       "      <td>4</td>\n",
       "      <td>6</td>\n",
       "      <td>0</td>\n",
       "      <td>0</td>\n",
       "    </tr>\n",
       "    <tr>\n",
       "      <th>382</th>\n",
       "      <td>4.4</td>\n",
       "      <td>16</td>\n",
       "      <td>9</td>\n",
       "      <td>0</td>\n",
       "      <td>2</td>\n",
       "      <td>15.6</td>\n",
       "      <td>3</td>\n",
       "      <td>0</td>\n",
       "      <td>7</td>\n",
       "      <td>6</td>\n",
       "      <td>1</td>\n",
       "      <td>0</td>\n",
       "    </tr>\n",
       "    <tr>\n",
       "      <th>705</th>\n",
       "      <td>4.0</td>\n",
       "      <td>16</td>\n",
       "      <td>7</td>\n",
       "      <td>11</td>\n",
       "      <td>10</td>\n",
       "      <td>15.6</td>\n",
       "      <td>3</td>\n",
       "      <td>1</td>\n",
       "      <td>10</td>\n",
       "      <td>6</td>\n",
       "      <td>1</td>\n",
       "      <td>1</td>\n",
       "    </tr>\n",
       "    <tr>\n",
       "      <th>814</th>\n",
       "      <td>4.4</td>\n",
       "      <td>8</td>\n",
       "      <td>5</td>\n",
       "      <td>10</td>\n",
       "      <td>8</td>\n",
       "      <td>15.6</td>\n",
       "      <td>3</td>\n",
       "      <td>1</td>\n",
       "      <td>9</td>\n",
       "      <td>6</td>\n",
       "      <td>1</td>\n",
       "      <td>0</td>\n",
       "    </tr>\n",
       "    <tr>\n",
       "      <th>...</th>\n",
       "      <td>...</td>\n",
       "      <td>...</td>\n",
       "      <td>...</td>\n",
       "      <td>...</td>\n",
       "      <td>...</td>\n",
       "      <td>...</td>\n",
       "      <td>...</td>\n",
       "      <td>...</td>\n",
       "      <td>...</td>\n",
       "      <td>...</td>\n",
       "      <td>...</td>\n",
       "      <td>...</td>\n",
       "    </tr>\n",
       "    <tr>\n",
       "      <th>106</th>\n",
       "      <td>4.0</td>\n",
       "      <td>8</td>\n",
       "      <td>5</td>\n",
       "      <td>0</td>\n",
       "      <td>8</td>\n",
       "      <td>15.6</td>\n",
       "      <td>0</td>\n",
       "      <td>0</td>\n",
       "      <td>5</td>\n",
       "      <td>6</td>\n",
       "      <td>0</td>\n",
       "      <td>0</td>\n",
       "    </tr>\n",
       "    <tr>\n",
       "      <th>270</th>\n",
       "      <td>4.4</td>\n",
       "      <td>32</td>\n",
       "      <td>9</td>\n",
       "      <td>13</td>\n",
       "      <td>2</td>\n",
       "      <td>16.0</td>\n",
       "      <td>3</td>\n",
       "      <td>1</td>\n",
       "      <td>11</td>\n",
       "      <td>6</td>\n",
       "      <td>1</td>\n",
       "      <td>0</td>\n",
       "    </tr>\n",
       "    <tr>\n",
       "      <th>860</th>\n",
       "      <td>4.1</td>\n",
       "      <td>4</td>\n",
       "      <td>0</td>\n",
       "      <td>0</td>\n",
       "      <td>11</td>\n",
       "      <td>11.6</td>\n",
       "      <td>2</td>\n",
       "      <td>2</td>\n",
       "      <td>2</td>\n",
       "      <td>5</td>\n",
       "      <td>0</td>\n",
       "      <td>0</td>\n",
       "    </tr>\n",
       "    <tr>\n",
       "      <th>435</th>\n",
       "      <td>4.0</td>\n",
       "      <td>16</td>\n",
       "      <td>7</td>\n",
       "      <td>12</td>\n",
       "      <td>8</td>\n",
       "      <td>16.0</td>\n",
       "      <td>3</td>\n",
       "      <td>1</td>\n",
       "      <td>10</td>\n",
       "      <td>6</td>\n",
       "      <td>1</td>\n",
       "      <td>0</td>\n",
       "    </tr>\n",
       "    <tr>\n",
       "      <th>102</th>\n",
       "      <td>4.2</td>\n",
       "      <td>8</td>\n",
       "      <td>5</td>\n",
       "      <td>0</td>\n",
       "      <td>8</td>\n",
       "      <td>15.6</td>\n",
       "      <td>3</td>\n",
       "      <td>0</td>\n",
       "      <td>5</td>\n",
       "      <td>6</td>\n",
       "      <td>1</td>\n",
       "      <td>0</td>\n",
       "    </tr>\n",
       "  </tbody>\n",
       "</table>\n",
       "<p>714 rows × 12 columns</p>\n",
       "</div>"
      ],
      "text/plain": [
       "     Rating  Ram  Cores  Generation  Brand_name_encoded  display  \\\n",
       "331     4.4    8      5          13                   2     14.0   \n",
       "734     4.4    8      4           0                   4     14.0   \n",
       "382     4.4   16      9           0                   2     15.6   \n",
       "705     4.0   16      7          11                  10     15.6   \n",
       "814     4.4    8      5          10                   8     15.6   \n",
       "..      ...  ...    ...         ...                 ...      ...   \n",
       "106     4.0    8      5           0                   8     15.6   \n",
       "270     4.4   32      9          13                   2     16.0   \n",
       "860     4.1    4      0           0                  11     11.6   \n",
       "435     4.0   16      7          12                   8     16.0   \n",
       "102     4.2    8      5           0                   8     15.6   \n",
       "\n",
       "     disk_drive_name_encoded  p_brand_name_encoded  \\\n",
       "331                        3                     1   \n",
       "734                        3                     0   \n",
       "382                        3                     0   \n",
       "705                        3                     1   \n",
       "814                        3                     1   \n",
       "..                       ...                   ...   \n",
       "106                        0                     0   \n",
       "270                        3                     1   \n",
       "860                        2                     2   \n",
       "435                        3                     1   \n",
       "102                        3                     0   \n",
       "\n",
       "     processor_type_name_encoded  OS_name_encoded  graphic_card_name_encoded  \\\n",
       "331                            9                6                          0   \n",
       "734                            4                6                          0   \n",
       "382                            7                6                          1   \n",
       "705                           10                6                          1   \n",
       "814                            9                6                          1   \n",
       "..                           ...              ...                        ...   \n",
       "106                            5                6                          0   \n",
       "270                           11                6                          1   \n",
       "860                            2                5                          0   \n",
       "435                           10                6                          1   \n",
       "102                            5                6                          1   \n",
       "\n",
       "     touchscreen_name_encoded  \n",
       "331                         0  \n",
       "734                         0  \n",
       "382                         0  \n",
       "705                         1  \n",
       "814                         0  \n",
       "..                        ...  \n",
       "106                         0  \n",
       "270                         0  \n",
       "860                         0  \n",
       "435                         0  \n",
       "102                         0  \n",
       "\n",
       "[714 rows x 12 columns]"
      ]
     },
     "execution_count": 35,
     "metadata": {},
     "output_type": "execute_result"
    }
   ],
   "source": [
    "X_train"
   ]
  },
  {
   "cell_type": "code",
   "execution_count": 36,
   "id": "547594de",
   "metadata": {},
   "outputs": [
    {
     "data": {
      "text/html": [
       "<table class=\"simpletable\">\n",
       "<caption>OLS Regression Results</caption>\n",
       "<tr>\n",
       "  <th>Dep. Variable:</th>            <td>y</td>        <th>  R-squared:         </th> <td>   0.802</td> \n",
       "</tr>\n",
       "<tr>\n",
       "  <th>Model:</th>                   <td>OLS</td>       <th>  Adj. R-squared:    </th> <td>   0.800</td> \n",
       "</tr>\n",
       "<tr>\n",
       "  <th>Method:</th>             <td>Least Squares</td>  <th>  F-statistic:       </th> <td>   297.6</td> \n",
       "</tr>\n",
       "<tr>\n",
       "  <th>Date:</th>             <td>Fri, 26 May 2023</td> <th>  Prob (F-statistic):</th> <td>8.49e-300</td>\n",
       "</tr>\n",
       "<tr>\n",
       "  <th>Time:</th>                 <td>10:06:47</td>     <th>  Log-Likelihood:    </th> <td> -10456.</td> \n",
       "</tr>\n",
       "<tr>\n",
       "  <th>No. Observations:</th>      <td>   893</td>      <th>  AIC:               </th> <td>2.094e+04</td>\n",
       "</tr>\n",
       "<tr>\n",
       "  <th>Df Residuals:</th>          <td>   880</td>      <th>  BIC:               </th> <td>2.100e+04</td>\n",
       "</tr>\n",
       "<tr>\n",
       "  <th>Df Model:</th>              <td>    12</td>      <th>                     </th>     <td> </td>    \n",
       "</tr>\n",
       "<tr>\n",
       "  <th>Covariance Type:</th>      <td>nonrobust</td>    <th>                     </th>     <td> </td>    \n",
       "</tr>\n",
       "</table>\n",
       "<table class=\"simpletable\">\n",
       "<tr>\n",
       "               <td></td>                  <th>coef</th>     <th>std err</th>      <th>t</th>      <th>P>|t|</th>  <th>[0.025</th>    <th>0.975]</th>  \n",
       "</tr>\n",
       "<tr>\n",
       "  <th>const</th>                       <td>-3.338e+04</td> <td> 1.79e+04</td> <td>   -1.863</td> <td> 0.063</td> <td>-6.86e+04</td> <td> 1788.935</td>\n",
       "</tr>\n",
       "<tr>\n",
       "  <th>Rating</th>                      <td> -662.8950</td> <td> 3622.658</td> <td>   -0.183</td> <td> 0.855</td> <td>-7772.953</td> <td> 6447.162</td>\n",
       "</tr>\n",
       "<tr>\n",
       "  <th>Ram</th>                         <td> 5893.7433</td> <td>  216.643</td> <td>   27.205</td> <td> 0.000</td> <td> 5468.546</td> <td> 6318.941</td>\n",
       "</tr>\n",
       "<tr>\n",
       "  <th>Cores</th>                       <td> 1.059e+04</td> <td> 1108.651</td> <td>    9.550</td> <td> 0.000</td> <td> 8411.784</td> <td> 1.28e+04</td>\n",
       "</tr>\n",
       "<tr>\n",
       "  <th>Generation</th>                  <td>-1438.6550</td> <td>  520.594</td> <td>   -2.763</td> <td> 0.006</td> <td>-2460.406</td> <td> -416.904</td>\n",
       "</tr>\n",
       "<tr>\n",
       "  <th>Brand_name_encoded</th>          <td>-1274.6009</td> <td>  303.978</td> <td>   -4.193</td> <td> 0.000</td> <td>-1871.207</td> <td> -677.995</td>\n",
       "</tr>\n",
       "<tr>\n",
       "  <th>display</th>                     <td>  154.4968</td> <td>  207.718</td> <td>    0.744</td> <td> 0.457</td> <td> -253.184</td> <td>  562.178</td>\n",
       "</tr>\n",
       "<tr>\n",
       "  <th>disk_drive_name_encoded</th>     <td>-1709.9307</td> <td> 1641.159</td> <td>   -1.042</td> <td> 0.298</td> <td>-4930.974</td> <td> 1511.113</td>\n",
       "</tr>\n",
       "<tr>\n",
       "  <th>p_brand_name_encoded</th>        <td> 2.688e+04</td> <td> 2709.697</td> <td>    9.920</td> <td> 0.000</td> <td> 2.16e+04</td> <td> 3.22e+04</td>\n",
       "</tr>\n",
       "<tr>\n",
       "  <th>processor_type_name_encoded</th> <td>  584.6252</td> <td> 1283.712</td> <td>    0.455</td> <td> 0.649</td> <td>-1934.870</td> <td> 3104.121</td>\n",
       "</tr>\n",
       "<tr>\n",
       "  <th>OS_name_encoded</th>             <td>-2098.5714</td> <td> 1425.707</td> <td>   -1.472</td> <td> 0.141</td> <td>-4896.754</td> <td>  699.611</td>\n",
       "</tr>\n",
       "<tr>\n",
       "  <th>graphic_card_name_encoded</th>   <td> 1.098e+04</td> <td> 2680.756</td> <td>    4.098</td> <td> 0.000</td> <td> 5723.265</td> <td> 1.62e+04</td>\n",
       "</tr>\n",
       "<tr>\n",
       "  <th>touchscreen_name_encoded</th>    <td>-4115.7487</td> <td> 3569.582</td> <td>   -1.153</td> <td> 0.249</td> <td>-1.11e+04</td> <td> 2890.140</td>\n",
       "</tr>\n",
       "</table>\n",
       "<table class=\"simpletable\">\n",
       "<tr>\n",
       "  <th>Omnibus:</th>       <td>235.339</td> <th>  Durbin-Watson:     </th> <td>   1.923</td> \n",
       "</tr>\n",
       "<tr>\n",
       "  <th>Prob(Omnibus):</th> <td> 0.000</td>  <th>  Jarque-Bera (JB):  </th> <td>1192.748</td> \n",
       "</tr>\n",
       "<tr>\n",
       "  <th>Skew:</th>          <td> 1.111</td>  <th>  Prob(JB):          </th> <td>9.95e-260</td>\n",
       "</tr>\n",
       "<tr>\n",
       "  <th>Kurtosis:</th>      <td> 8.208</td>  <th>  Cond. No.          </th> <td>    465.</td> \n",
       "</tr>\n",
       "</table><br/><br/>Notes:<br/>[1] Standard Errors assume that the covariance matrix of the errors is correctly specified."
      ],
      "text/plain": [
       "<class 'statsmodels.iolib.summary.Summary'>\n",
       "\"\"\"\n",
       "                            OLS Regression Results                            \n",
       "==============================================================================\n",
       "Dep. Variable:                      y   R-squared:                       0.802\n",
       "Model:                            OLS   Adj. R-squared:                  0.800\n",
       "Method:                 Least Squares   F-statistic:                     297.6\n",
       "Date:                Fri, 26 May 2023   Prob (F-statistic):          8.49e-300\n",
       "Time:                        10:06:47   Log-Likelihood:                -10456.\n",
       "No. Observations:                 893   AIC:                         2.094e+04\n",
       "Df Residuals:                     880   BIC:                         2.100e+04\n",
       "Df Model:                          12                                         \n",
       "Covariance Type:            nonrobust                                         \n",
       "===============================================================================================\n",
       "                                  coef    std err          t      P>|t|      [0.025      0.975]\n",
       "-----------------------------------------------------------------------------------------------\n",
       "const                       -3.338e+04   1.79e+04     -1.863      0.063   -6.86e+04    1788.935\n",
       "Rating                       -662.8950   3622.658     -0.183      0.855   -7772.953    6447.162\n",
       "Ram                          5893.7433    216.643     27.205      0.000    5468.546    6318.941\n",
       "Cores                        1.059e+04   1108.651      9.550      0.000    8411.784    1.28e+04\n",
       "Generation                  -1438.6550    520.594     -2.763      0.006   -2460.406    -416.904\n",
       "Brand_name_encoded          -1274.6009    303.978     -4.193      0.000   -1871.207    -677.995\n",
       "display                       154.4968    207.718      0.744      0.457    -253.184     562.178\n",
       "disk_drive_name_encoded     -1709.9307   1641.159     -1.042      0.298   -4930.974    1511.113\n",
       "p_brand_name_encoded         2.688e+04   2709.697      9.920      0.000    2.16e+04    3.22e+04\n",
       "processor_type_name_encoded   584.6252   1283.712      0.455      0.649   -1934.870    3104.121\n",
       "OS_name_encoded             -2098.5714   1425.707     -1.472      0.141   -4896.754     699.611\n",
       "graphic_card_name_encoded    1.098e+04   2680.756      4.098      0.000    5723.265    1.62e+04\n",
       "touchscreen_name_encoded    -4115.7487   3569.582     -1.153      0.249   -1.11e+04    2890.140\n",
       "==============================================================================\n",
       "Omnibus:                      235.339   Durbin-Watson:                   1.923\n",
       "Prob(Omnibus):                  0.000   Jarque-Bera (JB):             1192.748\n",
       "Skew:                           1.111   Prob(JB):                    9.95e-260\n",
       "Kurtosis:                       8.208   Cond. No.                         465.\n",
       "==============================================================================\n",
       "\n",
       "Notes:\n",
       "[1] Standard Errors assume that the covariance matrix of the errors is correctly specified.\n",
       "\"\"\""
      ]
     },
     "execution_count": 36,
     "metadata": {},
     "output_type": "execute_result"
    }
   ],
   "source": [
    "import statsmodels.api as sm\n",
    "X_sm= X = sm.add_constant(X)\n",
    "model=sm.OLS(Y,X_sm)  \n",
    "model.fit().summary() "
   ]
  },
  {
   "cell_type": "markdown",
   "id": "7bd81164",
   "metadata": {},
   "source": [
    "## Linear Regression"
   ]
  },
  {
   "cell_type": "code",
   "execution_count": 37,
   "id": "18aff902",
   "metadata": {},
   "outputs": [
    {
     "data": {
      "text/plain": [
       "LinearRegression()"
      ]
     },
     "execution_count": 37,
     "metadata": {},
     "output_type": "execute_result"
    }
   ],
   "source": [
    "from sklearn.linear_model import LinearRegression,Lasso\n",
    "from sklearn.model_selection import cross_val_score\n",
    "\n",
    "lr = LinearRegression()\n",
    "lr.fit(X_train,Y_train)"
   ]
  },
  {
   "cell_type": "code",
   "execution_count": 38,
   "id": "8c61a193",
   "metadata": {},
   "outputs": [
    {
     "data": {
      "text/plain": [
       "0.7884176383217778"
      ]
     },
     "execution_count": 38,
     "metadata": {},
     "output_type": "execute_result"
    }
   ],
   "source": [
    "lr.score(X_test,Y_test)\n"
   ]
  },
  {
   "cell_type": "code",
   "execution_count": 39,
   "id": "2211794d",
   "metadata": {},
   "outputs": [
    {
     "data": {
      "text/plain": [
       "20687.579232810385"
      ]
     },
     "execution_count": 39,
     "metadata": {},
     "output_type": "execute_result"
    }
   ],
   "source": [
    "lr_ypred = lr.predict(X_test)\n",
    "from sklearn.metrics import mean_absolute_error\n",
    "mean_absolute_error(lr_ypred,Y_test)"
   ]
  },
  {
   "cell_type": "code",
   "execution_count": 40,
   "id": "a20a378c",
   "metadata": {},
   "outputs": [
    {
     "data": {
      "text/plain": [
       "0.6953572136156151"
      ]
     },
     "execution_count": 40,
     "metadata": {},
     "output_type": "execute_result"
    }
   ],
   "source": [
    "from sklearn.metrics import r2_score\n",
    "r2_score(lr_ypred,Y_test)"
   ]
  },
  {
   "cell_type": "markdown",
   "id": "166ddc87",
   "metadata": {},
   "source": [
    "## Lasso"
   ]
  },
  {
   "cell_type": "code",
   "execution_count": 41,
   "id": "aef7e59f",
   "metadata": {},
   "outputs": [],
   "source": [
    "from sklearn.linear_model import Lasso\n"
   ]
  },
  {
   "cell_type": "code",
   "execution_count": 42,
   "id": "a04f890f",
   "metadata": {
    "scrolled": true
   },
   "outputs": [
    {
     "data": {
      "text/plain": [
       "-18585.556777251233"
      ]
     },
     "execution_count": 42,
     "metadata": {},
     "output_type": "execute_result"
    }
   ],
   "source": [
    "lm_l = Lasso(alpha=0.13)\n",
    "lm_l.fit(X_train,Y_train)\n",
    "np.mean(cross_val_score(lm_l,X_train,Y_train,scoring='neg_mean_absolute_error',cv=3)) "
   ]
  },
  {
   "cell_type": "code",
   "execution_count": 43,
   "id": "60e5da68",
   "metadata": {},
   "outputs": [
    {
     "name": "stdout",
     "output_type": "stream",
     "text": [
      "<class 'pandas.core.frame.DataFrame'>\n",
      "Int64Index: 714 entries, 331 to 102\n",
      "Data columns (total 12 columns):\n",
      " #   Column                       Non-Null Count  Dtype  \n",
      "---  ------                       --------------  -----  \n",
      " 0   Rating                       714 non-null    float64\n",
      " 1   Ram                          714 non-null    int64  \n",
      " 2   Cores                        714 non-null    int64  \n",
      " 3   Generation                   714 non-null    int64  \n",
      " 4   Brand_name_encoded           714 non-null    int32  \n",
      " 5   display                      714 non-null    float64\n",
      " 6   disk_drive_name_encoded      714 non-null    int32  \n",
      " 7   p_brand_name_encoded         714 non-null    int32  \n",
      " 8   processor_type_name_encoded  714 non-null    int32  \n",
      " 9   OS_name_encoded              714 non-null    int32  \n",
      " 10  graphic_card_name_encoded    714 non-null    int32  \n",
      " 11  touchscreen_name_encoded     714 non-null    int32  \n",
      "dtypes: float64(2), int32(7), int64(3)\n",
      "memory usage: 53.0 KB\n"
     ]
    }
   ],
   "source": [
    "X_train.info()"
   ]
  },
  {
   "cell_type": "code",
   "execution_count": 44,
   "id": "bd75f252",
   "metadata": {},
   "outputs": [],
   "source": [
    "lasso_ypred = lm_l.predict(X_test)"
   ]
  },
  {
   "cell_type": "code",
   "execution_count": 45,
   "id": "2cbd791c",
   "metadata": {},
   "outputs": [
    {
     "data": {
      "text/plain": [
       "20687.616160528043"
      ]
     },
     "execution_count": 45,
     "metadata": {},
     "output_type": "execute_result"
    }
   ],
   "source": [
    "from sklearn.metrics import mean_absolute_error\n",
    "mean_absolute_error(lasso_ypred,Y_test)"
   ]
  },
  {
   "cell_type": "code",
   "execution_count": 46,
   "id": "6cb098e8",
   "metadata": {},
   "outputs": [
    {
     "data": {
      "text/plain": [
       "0.6953545665200846"
      ]
     },
     "execution_count": 46,
     "metadata": {},
     "output_type": "execute_result"
    }
   ],
   "source": [
    "from sklearn.metrics import r2_score\n",
    "r2_score(lasso_ypred,Y_test)"
   ]
  },
  {
   "cell_type": "markdown",
   "id": "2f1081eb",
   "metadata": {},
   "source": [
    "## Random forest"
   ]
  },
  {
   "cell_type": "code",
   "execution_count": 47,
   "id": "9b004fea",
   "metadata": {},
   "outputs": [],
   "source": [
    "from sklearn.ensemble import RandomForestRegressor\n",
    "rf = RandomForestRegressor(random_state=0)"
   ]
  },
  {
   "cell_type": "code",
   "execution_count": 48,
   "id": "b44f5b71",
   "metadata": {},
   "outputs": [
    {
     "data": {
      "text/plain": [
       "RandomForestRegressor(random_state=0)"
      ]
     },
     "execution_count": 48,
     "metadata": {},
     "output_type": "execute_result"
    }
   ],
   "source": [
    "rf.fit(X_train,Y_train)\n"
   ]
  },
  {
   "cell_type": "code",
   "execution_count": 49,
   "id": "b687511e",
   "metadata": {},
   "outputs": [
    {
     "data": {
      "text/plain": [
       "-11691.827806027432"
      ]
     },
     "execution_count": 49,
     "metadata": {},
     "output_type": "execute_result"
    }
   ],
   "source": [
    "np.mean(cross_val_score(rf,X_train,Y_train,scoring='neg_mean_absolute_error',cv=3))\n"
   ]
  },
  {
   "cell_type": "code",
   "execution_count": 50,
   "id": "22b5b647",
   "metadata": {},
   "outputs": [
    {
     "name": "stdout",
     "output_type": "stream",
     "text": [
      "10984.75530267708\n",
      "0.8702667936569342\n"
     ]
    }
   ],
   "source": [
    "ypred_rf = rf.predict(X_test)\n",
    "print(mean_absolute_error(Y_test,ypred_rf))\n",
    "print(r2_score(ypred_rf,Y_test))"
   ]
  },
  {
   "cell_type": "code",
   "execution_count": 51,
   "id": "97211c21",
   "metadata": {},
   "outputs": [
    {
     "data": {
      "text/plain": [
       "array([ 33990.        , 161023.33333333, 109012.01      , 133588.05      ,\n",
       "        55394.2       ,  33990.        , 166576.19      ,  17657.11098927,\n",
       "        17657.11098927,  17657.11098927,  44808.83      , 244009.11666667,\n",
       "        69250.        ,  33990.        ,  76319.        , 225618.0952381 ,\n",
       "        33990.        ,  51403.98      ,  39990.        ,  17657.11098927,\n",
       "        17657.11098927,  67336.03333333, 165182.55      ,  33990.        ,\n",
       "       101404.982     ,  97011.        ,  53300.63333333,  54974.11666667,\n",
       "        99150.36666667,  69835.92857143,  52073.78582205, 105900.28354978,\n",
       "       135681.76333333,  93271.19666667,  33990.        ,  33990.        ,\n",
       "        38889.5495    ,  17657.11098927,  43638.57      ,  70559.92857143,\n",
       "        46296.90375   ,  74430.22      ,  59907.1       ,  56288.37      ,\n",
       "        70733.9       ,  39841.08333333,  39990.        ,  78144.56004762,\n",
       "        58420.6434965 , 253157.01428571,  17657.11098927,  38864.4       ,\n",
       "        33990.        ,  26966.09      ,  71831.13      ,  47164.52716667,\n",
       "       173172.97619048,  70862.578     ,  39588.7505    ,  29380.        ,\n",
       "       223044.79666667, 169973.        ,  74418.155     ,  59928.0875    ,\n",
       "        40714.56      , 118818.62571429,  17657.11098927,  52073.78582205,\n",
       "        90501.623     ,  39550.10666667,  64656.01119048,  87200.23809524,\n",
       "        65075.045     ,  17657.11098927,  45501.18      ,  39990.        ,\n",
       "        39990.        ,  76319.        ,  74418.155     , 112972.85666667,\n",
       "        98451.46031746,  17657.11098927, 346490.86      ,  39990.        ,\n",
       "       148981.66333333, 185920.        , 340440.        ,  17657.11098927,\n",
       "        71000.26      , 163250.28571429,  81475.95      ,  50040.69818182,\n",
       "        45486.62186905,  98537.98666667,  17657.11098927,  65402.68769048,\n",
       "        57630.66414099,  49240.981     ,  61971.11119048,  17657.11098927,\n",
       "        52073.78582205,  17657.11098927, 173205.45      , 134346.51      ,\n",
       "       118818.62571429,  88826.58      ,  17657.11098927,  17657.11098927,\n",
       "        17657.11098927,  45606.53333333,  17657.11098927,  28118.03      ,\n",
       "        17657.11098927,  87200.23809524,  35590.        ,  70862.578     ,\n",
       "        94980.72857143, 164636.28571429,  59848.33333333, 355600.5       ,\n",
       "        42149.2       ,  94272.36095238,  39990.        ,  86992.4       ,\n",
       "        42842.93806633,  39990.        , 110235.        ,  29307.62666667,\n",
       "        79426.        ,  17657.11098927,  90501.623     ,  64362.39958874,\n",
       "        71620.83333333,  57855.22272727,  17657.11098927,  60976.46666667,\n",
       "       227257.3       ,  43036.02857143,  69799.7       ,  17657.11098927,\n",
       "        58255.87833333,  40450.        ,  74111.838     ,  17657.11098927,\n",
       "        38468.49      ,  38602.7       ,  29146.75      ,  61007.4       ,\n",
       "        38942.24      ,  68246.32133333,  73987.68333333,  97033.10857143,\n",
       "        31006.76666667, 373802.60063492,  46865.54      , 111971.23666667,\n",
       "        62977.36958874,  41683.34333333,  77085.92460317,  17657.11098927,\n",
       "       189421.62857143,  58990.        ,  54924.11666667,  71290.26      ,\n",
       "        42689.53142857,  78378.1       ,  51403.98      ,  67188.77238095,\n",
       "        39882.68      ,  56165.84857143, 465484.01857143, 179573.33571429,\n",
       "       231243.78333333,  64853.38      ,  33990.        , 101335.85666667,\n",
       "        17657.11098927,  52990.        ,  58990.        ])"
      ]
     },
     "execution_count": 51,
     "metadata": {},
     "output_type": "execute_result"
    }
   ],
   "source": [
    "ypred_rf"
   ]
  },
  {
   "cell_type": "markdown",
   "id": "46df13a1",
   "metadata": {},
   "source": [
    "## XGBOOST"
   ]
  },
  {
   "cell_type": "code",
   "execution_count": 52,
   "id": "4afbeba5",
   "metadata": {},
   "outputs": [
    {
     "name": "stdout",
     "output_type": "stream",
     "text": [
      "Requirement already satisfied: xgboost in e:\\anc\\lib\\site-packages (1.7.5)Note: you may need to restart the kernel to use updated packages.\n"
     ]
    },
    {
     "name": "stderr",
     "output_type": "stream",
     "text": [
      "WARNING: Ignoring invalid distribution -cipy (e:\\anc\\lib\\site-packages)\n",
      "WARNING: Ignoring invalid distribution -cipy (e:\\anc\\lib\\site-packages)\n",
      "WARNING: Ignoring invalid distribution -cipy (e:\\anc\\lib\\site-packages)\n",
      "WARNING: Ignoring invalid distribution -cipy (e:\\anc\\lib\\site-packages)\n",
      "WARNING: Ignoring invalid distribution -cipy (e:\\anc\\lib\\site-packages)\n",
      "WARNING: Ignoring invalid distribution -cipy (e:\\anc\\lib\\site-packages)\n"
     ]
    },
    {
     "name": "stdout",
     "output_type": "stream",
     "text": [
      "\n",
      "Requirement already satisfied: scipy in e:\\anc\\lib\\site-packages (from xgboost) (1.7.3)\n",
      "Requirement already satisfied: numpy in e:\\anc\\lib\\site-packages (from xgboost) (1.22.1)\n"
     ]
    }
   ],
   "source": [
    "pip install xgboost\n"
   ]
  },
  {
   "cell_type": "code",
   "execution_count": 53,
   "id": "ce29a55e",
   "metadata": {},
   "outputs": [
    {
     "data": {
      "text/plain": [
       "XGBRegressor(base_score=None, booster=None, callbacks=None,\n",
       "             colsample_bylevel=None, colsample_bynode=None,\n",
       "             colsample_bytree=None, early_stopping_rounds=None,\n",
       "             enable_categorical=False, eval_metric=None, feature_types=None,\n",
       "             gamma=None, gpu_id=None, grow_policy=None, importance_type=None,\n",
       "             interaction_constraints=None, learning_rate=None, max_bin=None,\n",
       "             max_cat_threshold=None, max_cat_to_onehot=None,\n",
       "             max_delta_step=None, max_depth=None, max_leaves=None,\n",
       "             min_child_weight=None, missing=nan, monotone_constraints=None,\n",
       "             n_estimators=100, n_jobs=None, num_parallel_tree=None,\n",
       "             predictor=None, random_state=0, ...)"
      ]
     },
     "execution_count": 53,
     "metadata": {},
     "output_type": "execute_result"
    }
   ],
   "source": [
    "from xgboost import XGBRegressor\n",
    "regressor = XGBRegressor(random_state = 0)\n",
    "regressor.fit(X_train,Y_train)"
   ]
  },
  {
   "cell_type": "code",
   "execution_count": 54,
   "id": "6b6fc5a0",
   "metadata": {},
   "outputs": [
    {
     "data": {
      "text/plain": [
       "10705.19366489176"
      ]
     },
     "execution_count": 54,
     "metadata": {},
     "output_type": "execute_result"
    }
   ],
   "source": [
    "y_xgb = regressor.predict(X_test)\n",
    "from sklearn.metrics import mean_absolute_error\n",
    "mean_absolute_error(y_xgb,Y_test)"
   ]
  },
  {
   "cell_type": "code",
   "execution_count": 55,
   "id": "6a05d170",
   "metadata": {},
   "outputs": [
    {
     "data": {
      "text/plain": [
       "0.8841833878363685"
      ]
     },
     "execution_count": 55,
     "metadata": {},
     "output_type": "execute_result"
    }
   ],
   "source": [
    "from sklearn.metrics import r2_score\n",
    "r2_score(y_xgb,Y_test)"
   ]
  },
  {
   "cell_type": "code",
   "execution_count": 56,
   "id": "d39dfc18",
   "metadata": {},
   "outputs": [],
   "source": [
    "import joblib\n"
   ]
  },
  {
   "cell_type": "code",
   "execution_count": 57,
   "id": "80121303",
   "metadata": {},
   "outputs": [
    {
     "data": {
      "text/plain": [
       "['model1.pkl']"
      ]
     },
     "execution_count": 57,
     "metadata": {},
     "output_type": "execute_result"
    }
   ],
   "source": [
    "joblib.dump(rf,'model1.pkl')\n"
   ]
  },
  {
   "cell_type": "code",
   "execution_count": 58,
   "id": "30755d9a",
   "metadata": {},
   "outputs": [],
   "source": [
    "model=joblib.load('model1.pkl')\n"
   ]
  },
  {
   "cell_type": "code",
   "execution_count": 68,
   "id": "87c347cc",
   "metadata": {},
   "outputs": [
    {
     "name": "stderr",
     "output_type": "stream",
     "text": [
      "E:\\anc\\lib\\site-packages\\sklearn\\base.py:450: UserWarning: X does not have valid feature names, but RandomForestRegressor was fitted with feature names\n",
      "  warnings.warn(\n"
     ]
    },
    {
     "data": {
      "text/plain": [
       "161023.33333333334"
      ]
     },
     "execution_count": 68,
     "metadata": {},
     "output_type": "execute_result"
    }
   ],
   "source": [
    "rf.predict(np.array(list(X_test.iloc[1,:])).reshape(1,-1))[0]\n"
   ]
  },
  {
   "cell_type": "code",
   "execution_count": 69,
   "id": "5adb627f",
   "metadata": {},
   "outputs": [
    {
     "name": "stderr",
     "output_type": "stream",
     "text": [
      "E:\\anc\\lib\\site-packages\\sklearn\\base.py:450: UserWarning: X does not have valid feature names, but RandomForestRegressor was fitted with feature names\n",
      "  warnings.warn(\n"
     ]
    },
    {
     "data": {
      "text/plain": [
       "array([161023.33333333])"
      ]
     },
     "execution_count": 69,
     "metadata": {},
     "output_type": "execute_result"
    }
   ],
   "source": [
    "rf.predict(np.array([[4.2,32.0,7.0,13.0,6.0,13.5,3.0,1,10,6,0,1]]))"
   ]
  },
  {
   "cell_type": "code",
   "execution_count": 71,
   "id": "b3565ad3",
   "metadata": {},
   "outputs": [
    {
     "data": {
      "text/plain": [
       "array([[ 4.2, 32. ,  7. , 13. ,  6. , 13.5,  3. ,  1. , 10. ,  6. ,  0. ,\n",
       "         1. ]])"
      ]
     },
     "execution_count": 71,
     "metadata": {},
     "output_type": "execute_result"
    }
   ],
   "source": [
    "np.array([[4.2,32.0,7.0,13.0,6.0,13.5,3.0,1,10,6,0,1]])"
   ]
  },
  {
   "cell_type": "code",
   "execution_count": 60,
   "id": "5d89bbff",
   "metadata": {},
   "outputs": [
    {
     "data": {
      "text/plain": [
       "Rating                          4.2\n",
       "Ram                            32.0\n",
       "Cores                           7.0\n",
       "Generation                     13.0\n",
       "Brand_name_encoded              6.0\n",
       "display                        13.5\n",
       "disk_drive_name_encoded         3.0\n",
       "p_brand_name_encoded            1.0\n",
       "processor_type_name_encoded    10.0\n",
       "OS_name_encoded                 6.0\n",
       "graphic_card_name_encoded       0.0\n",
       "touchscreen_name_encoded        1.0\n",
       "Name: 440, dtype: float64"
      ]
     },
     "execution_count": 60,
     "metadata": {},
     "output_type": "execute_result"
    }
   ],
   "source": [
    "  "
   ]
  },
  {
   "cell_type": "code",
   "execution_count": null,
   "id": "10606b03",
   "metadata": {},
   "outputs": [],
   "source": []
  },
  {
   "cell_type": "code",
   "execution_count": 61,
   "id": "7ae9a04f",
   "metadata": {},
   "outputs": [],
   "source": [
    "import pickle"
   ]
  },
  {
   "cell_type": "code",
   "execution_count": 62,
   "id": "dec09d68",
   "metadata": {},
   "outputs": [],
   "source": [
    "pickle.dump(rf,open('lpd.pkl','wb'))"
   ]
  },
  {
   "cell_type": "code",
   "execution_count": null,
   "id": "6428dbde",
   "metadata": {},
   "outputs": [],
   "source": [
    "model"
   ]
  },
  {
   "cell_type": "code",
   "execution_count": 63,
   "id": "923c69b9",
   "metadata": {},
   "outputs": [
    {
     "data": {
      "text/plain": [
       "Name                           Lenovo IdeaPad Slim 3 Intel Core i3 11th Gen -...\n",
       "Processor                                     Intel Core i3 Processor (11th Gen)\n",
       "RAM                                                                8 GB DDR4 RAM\n",
       "Operating System                                     Windows 11 Operating System\n",
       "Display Size                                        39.62 cm (15.6 Inch) Display\n",
       "Warranty                       1 Year Onsite Warranty + 1 Year Premium Care +...\n",
       "Price                                                                      33990\n",
       "Rating                                                                       4.2\n",
       "Brand                                                                     Lenovo\n",
       "SSD                                                                          256\n",
       "HDD                                                                            0\n",
       "disk_drive                                                                   SSD\n",
       "Ram                                                                            8\n",
       "p_brand                                                                    Intel\n",
       "Cores                                                                          3\n",
       "processor_type                                                                i3\n",
       "OS                                                                       Windows\n",
       "display                                                                     15.6\n",
       "touchscreen                                                                   No\n",
       "graphic_card                                                                  No\n",
       "Generation                                                                    11\n",
       "Brand_name_encoded                                                             8\n",
       "disk_drive_name_encoded                                                        3\n",
       "p_brand_name_encoded                                                           1\n",
       "processor_type_name_encoded                                                    8\n",
       "OS_name_encoded                                                                6\n",
       "graphic_card_name_encoded                                                      0\n",
       "touchscreen_name_encoded                                                       0\n",
       "Name: 1, dtype: object"
      ]
     },
     "execution_count": 63,
     "metadata": {},
     "output_type": "execute_result"
    }
   ],
   "source": [
    "df.iloc[1]"
   ]
  },
  {
   "cell_type": "code",
   "execution_count": null,
   "id": "a5f6e737",
   "metadata": {},
   "outputs": [],
   "source": []
  }
 ],
 "metadata": {
  "kernelspec": {
   "display_name": "Python 3 (ipykernel)",
   "language": "python",
   "name": "python3"
  },
  "language_info": {
   "codemirror_mode": {
    "name": "ipython",
    "version": 3
   },
   "file_extension": ".py",
   "mimetype": "text/x-python",
   "name": "python",
   "nbconvert_exporter": "python",
   "pygments_lexer": "ipython3",
   "version": "3.9.13"
  }
 },
 "nbformat": 4,
 "nbformat_minor": 5
}
